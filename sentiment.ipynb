{
  "nbformat": 4,
  "nbformat_minor": 0,
  "metadata": {
    "colab": {
      "name": "sentiment.ipynb",
      "provenance": [],
      "collapsed_sections": []
    },
    "kernelspec": {
      "name": "python3",
      "display_name": "Python 3"
    },
    "language_info": {
      "name": "python"
    },
    "accelerator": "GPU"
  },
  "cells": [
    {
      "cell_type": "markdown",
      "metadata": {
        "id": "x2CO2Fnl_u0o"
      },
      "source": [
        "## Sentimenet Analysis with fastai"
      ]
    },
    {
      "cell_type": "code",
      "metadata": {
        "id": "f9_3mSoD74LH"
      },
      "source": [
        "!pip install -U fastai"
      ],
      "execution_count": null,
      "outputs": []
    },
    {
      "cell_type": "code",
      "metadata": {
        "id": "Pfw8jC-V3NfP"
      },
      "source": [
        "import pandas as pd\n",
        "from fastai.text.all import *"
      ],
      "execution_count": 2,
      "outputs": []
    },
    {
      "cell_type": "code",
      "metadata": {
        "id": "5bhDz4jx5eYs"
      },
      "source": [
        "raw_df = pd.read_excel(\"./drive/MyDrive/digikala.xlsx\")"
      ],
      "execution_count": 3,
      "outputs": []
    },
    {
      "cell_type": "code",
      "metadata": {
        "colab": {
          "base_uri": "https://localhost:8080/"
        },
        "id": "bbc_6P7f5j0A",
        "outputId": "77ae3f4d-1424-42d8-cfac-7d8e1f3517a9"
      },
      "source": [
        "raw_df.columns"
      ],
      "execution_count": 4,
      "outputs": [
        {
          "output_type": "execute_result",
          "data": {
            "text/plain": [
              "Index(['product_id', 'product_title', 'title_en', 'user_id', 'likes',\n",
              "       'dislikes', 'verification_status', 'recommend', 'title', 'comment',\n",
              "       'advantages', 'disadvantages'],\n",
              "      dtype='object')"
            ]
          },
          "metadata": {
            "tags": []
          },
          "execution_count": 4
        }
      ]
    },
    {
      "cell_type": "code",
      "metadata": {
        "id": "P37L30bq9FK4"
      },
      "source": [
        "df = raw_df.copy()\n",
        "df[\"text\"] = df[\"title\"].astype(str) + \"\\r\\n\" + df[\"comment\"].astype(str)"
      ],
      "execution_count": 10,
      "outputs": []
    },
    {
      "cell_type": "code",
      "metadata": {
        "id": "J1yPlkNe5yEx"
      },
      "source": [
        "df = df[df.recommend.isin([\"recommended\", \"not_recommended\"])].loc[:, [\"text\", \"recommend\"]]"
      ],
      "execution_count": null,
      "outputs": []
    },
    {
      "cell_type": "markdown",
      "metadata": {
        "id": "WNwDxmMNEVMy"
      },
      "source": [
        "### Specific text classification task with pretrained model\n"
      ]
    },
    {
      "cell_type": "code",
      "metadata": {
        "colab": {
          "base_uri": "https://localhost:8080/",
          "height": 71
        },
        "id": "x6dWJOka7Nhl",
        "outputId": "91d4c33a-d70d-46d0-8b4a-c1f86bd4408d"
      },
      "source": [
        "dls = TextDataLoaders.from_df(df, text_col=\"text\", label_col=\"recommend\", valid=\"test\")"
      ],
      "execution_count": 13,
      "outputs": [
        {
          "output_type": "display_data",
          "data": {
            "text/html": [
              ""
            ],
            "text/plain": [
              "<IPython.core.display.HTML object>"
            ]
          },
          "metadata": {
            "tags": []
          }
        },
        {
          "output_type": "stream",
          "text": [
            "/usr/local/lib/python3.7/dist-packages/numpy/core/_asarray.py:83: VisibleDeprecationWarning: Creating an ndarray from ragged nested sequences (which is a list-or-tuple of lists-or-tuples-or ndarrays with different lengths or shapes) is deprecated. If you meant to do this, you must specify 'dtype=object' when creating the ndarray\n",
            "  return array(a, dtype, copy=False, order=order)\n"
          ],
          "name": "stderr"
        }
      ]
    },
    {
      "cell_type": "code",
      "metadata": {
        "colab": {
          "base_uri": "https://localhost:8080/",
          "height": 1000
        },
        "id": "vFBTZJVy8lj9",
        "outputId": "aa64852a-90ae-4265-dd9f-68dc77aa824d"
      },
      "source": [
        "dls.show_batch()"
      ],
      "execution_count": 14,
      "outputs": [
        {
          "output_type": "display_data",
          "data": {
            "text/html": [
              "<table border=\"1\" class=\"dataframe\">\n",
              "  <thead>\n",
              "    <tr style=\"text-align: right;\">\n",
              "      <th></th>\n",
              "      <th>text</th>\n",
              "      <th>category</th>\n",
              "    </tr>\n",
              "  </thead>\n",
              "  <tbody>\n",
              "    <tr>\n",
              "      <th>0</th>\n",
              "      <td>xxbos یکی از بهترین ها در رده قیمتی خودش \\r\\n الان 2 ماه میشه که ازین تلوزیون توی اتاقم استفاده xxunk قبل از این با تلوزیون هوشمند کار نکرده xxunk ظاهر خوبی داره و از نظر طراحی قابل قبوله ولی انتظار داشتم ضخامت تلوزیون باریکتر می بود.این تلوزیون سیستم عامل xxunk 3.5 داره که کار کردن باهاش راحته و کنترل اون مثل موس عمل میکنه ولی توی بعضی از انیمیشن های رابط کاربری کمی لگ مشاهده میشه که البته اصلا آزاردهنده xxunk برنامه های کاربردی این سیستم xxunk ما xxunk زیاد نیست ولی بین اونهایی که کاربردی به نظر xxunk میشه آپارات و فیلیمو رو نام برد که میتونید از xxunk store ال جی دانلود کنید و روی تلوزیون نصب xxunk چند نرم افزار برای کنترل تلوزیون و شیر کردن محتوای گوشی روی تلوزیون وجود داره که در صورت تمایل میتونید اونها رو روی گوشیتون نصب xxunk xxup lg xxup</td>\n",
              "      <td>recommended</td>\n",
              "    </tr>\n",
              "    <tr>\n",
              "      <th>1</th>\n",
              "      <td>xxbos تبلت xxunk خوش ساخت و خوش دست \\r\\n سلام دوستان \\r\\n من حدوداً یک سال و نیم پیش این تبلت رو از همینجا خریدم ، البته که اون موقع قیمتش خیلی معقول تر بود . \\r\\n در مورد این تبلت ، اولین چیزی که با دیدنش مجذوبش میشین ، پک عالی و با کیفیت کار هست ؛ داخل بسته بندی ، خود تبلت ، قلم تبلت با سری مخصوص کیبورد ، و حدودا 5 تا سری خودکار xxunk به همراه یک پک کاغذ مخصوص نوت برداری و نقاشی داره . \\r\\n این تبلت ضخامت بسیار کمی داره طوری که با برگردوندن کیبورد به پشت تبلت ، باز هم مجموع ضخامتش از یه تبلت عادی کمتره و همین خیلی باعث خوش دست بودنش میشه ؛ وزن نسبتاً کمی داره . \\r\\n 64 گیگ حافظه داخلی داره که طبیعتاً کمه ، من خودم از یه کارت حافظه 128 گیگی استفاده می</td>\n",
              "      <td>recommended</td>\n",
              "    </tr>\n",
              "    <tr>\n",
              "      <th>2</th>\n",
              "      <td>xxbos پرینتری همه کاره \\r\\n سلام ، این پرینتر رو از دیجی کالا خریدم ، روز اول به راحتی از روی دفترچه خودش کامل و به راحتی راه انداختمش و xxunk نصب کردم و xxunk که تو جعبه بود رو پر کردم و … ولی هر کاری کردم نتونستم با وای فای وصل شم . فکر کردم پرینتر خرابه و خیلی تو ذوقم خورد ، اما فرداش با یخورده جستجو تو اینترنت فهمیدم توضیحات دفترچه اش راجع به اتصال وای فای ناقصه ، درصورتیکه این اتصال به راحتی برقرار میشه ، الانم راه حل رو اینجا میذارم تا شما هم مثه من اذیت نشین : \\r\\n 1- بعد از اینکه پرینتر کامل راه افتاد و کاغذ توش گذاشتین ، دکمه i در قسمت wireless روی پرینتر رو بزنید ، با اینکار یکی دو صفحه اطلاعات خود پرینتر چاپ میشه ، اینطوری هم یه تستی از پرینتر xxunk که سالمه و</td>\n",
              "      <td>recommended</td>\n",
              "    </tr>\n",
              "    <tr>\n",
              "      <th>3</th>\n",
              "      <td>xxbos خیلی خوب \\r\\n من به ندرت کیس عوض میکنم ولی چون کیس قبلیم خیلی صدا میداد و خوب خنک نمیکرد مجبور شدم عوضش کنم . این کیس رو پس از بررسی زیاد انتخاب کردم که دیروز به دستم xxunk از همه که شاسی و xxunk فلزی بدنه خیلی محکم و راضی کنندس . دکمه پاور بزرگ و ریست کوچک خیلی خوب طراحی شدن . ظاهر کیس هم که خیلی xxunk و برا خودش ابهت خاصی داره . دو پورت xxup usb 3 و دو پورت xxup usb 2 که جلوش تعبیه شده خیلی کار راه اندازه . استندش برا هدست خیلی خوبه چون همیشه مشکل داشتم با هدست . چون بدنه کیس محکمه وزنشم نسبتا زیاده پس دستگیره واقعا لازم بوده که گذاشتن . سه تا فن 12 شیشه ای با نور سفید مارک خود گرین توش کار شده که قیمت خود فن ها کم نیست . در کل</td>\n",
              "      <td>recommended</td>\n",
              "    </tr>\n",
              "    <tr>\n",
              "      <th>4</th>\n",
              "      <td>xxbos ساعت هوشمند \\r\\n من این مدل رو از دیجیکالا گرفتم با یه استند که به همراهش بود . در پوش پشت ساعت رو که باز کنید میتونید جای ورودی سیم کارت رو مشاهده کنید . با نصب سیم کارت و شارژ کامل ساعت نور صفحه ساعت هم از متوسط بیشتر گذاشتم و سنسور xxunk رو هم فعال کردم که با بالا آوردن مچ صفحه ساعت روشن بشه ولی با این حال باطری این ساعت xxunk شارژ به شما میده و بعد خاموش میشه البته بعد یه مدت استفاده بدتر هم میشه برای من الان به زور 6ساعت شارژ نگه میداره . واچ فیس ها هم محدوده نه xxunk داره که دانلود کنی و نه میتونید نرم افزار روی ساعت بریزی . کیفیت نمایش صفحه ساعت بد نیست واز متوسط به بالا هست . کیفیت دور بین هم بد نیست در حد متوسط و هم قابلیت فیلم xxunk داره و</td>\n",
              "      <td>not_recommended</td>\n",
              "    </tr>\n",
              "    <tr>\n",
              "      <th>5</th>\n",
              "      <td>xxbos کیفیت بالا خدمات خوب \\r\\n من نمونه آب خروجی این دستگاه و نمونه آب شیر رو فرستادم آزمایشگاه ، نتیجه اینکه شاخص املاح آب از 200 به 2 xxunk پیدا کرده بود که نشون میده دستگاه کارش رو درست انجام میده . ولی لزوما به این معنی نیست که نتیجه خوب هست . \\r\\n در حال حاضر نگرانی من برای استفاده از آب در پخت و xxunk ، دستگاه چای ساز ، کتری ، دستگاه قهوه ساز و یخچال برطرف شده و املاح زیاد آب به این دستگاه ها آسیب نمیزنه اما این آب مناسب نوشیدن نیست و به گفته کارشناس آزمایشگاه برای اینکه آب سالمی مصرف بشه نیاز هست 30 % آب شیر تصفیه نشده بهش اضافه بشه . \\r\\n بعد از خرید دستگاه از دیجیکالا من با شرکت تماس گرفتم و برای نصب هماهنگ کردم و نصاب در روز تعیین شده مراجعه کرد . نصاب جوون مودب</td>\n",
              "      <td>recommended</td>\n",
              "    </tr>\n",
              "    <tr>\n",
              "      <th>6</th>\n",
              "      <td>xxbos بررسی تخصصی کامل کیبورد \\r\\n چند ماهی هست که دنبال یک کیبورد گیمینگ خوب می گشتم از اینترنت بگیر تا کل بازار تهران رو زیرو رو کردم تا کیبورد xxmaj xxunk xxup xxunk بخرم اما هیچ جا نبود و تولیدش توقف شده بود . \\r\\n از این کیبورد خوشم اومد تقریبا کارایی هایی که میخواستم رو داشت . \\r\\n متاسفانه برای این هیچ کسی نظری نذاشته بود با کمی سرچ تو اینترنت دیدم انگار کیبورد خوبی هست تا به دستم رسید . بسته بندی خیلی شیک . \\r\\n یه xxup cd نرم افزار داره که با نصب نرم افزارش 3 تا پروفایل میتونید برای خودتون درست کنید . \\r\\n کلیدهای xxup xxunk تا xxup g8 برای هر پروفایل قابل تنظیم هست و تو هر پروفایل میتونید یک عملی رو انجام بده مثل : جلو عقب کردن مدیا پلیر ، زوم ، xxunk ، کپی و یا اجرای نرم افزار</td>\n",
              "      <td>recommended</td>\n",
              "    </tr>\n",
              "    <tr>\n",
              "      <th>7</th>\n",
              "      <td>xxbos یه محصول فوق العاده از xxup w - king بمب خوش ساخت کوچولو \\r\\n سلام \\r\\n تازه خریدم ولی وسواسم تو خرید خیلی بالاست و سعی میکنم قبل از خرید تحلیل کنم محصول مورد نظرمو \\r\\n نظر باقی دوستان نیز خوب بود ولی لازم دونستم چند تا مسئله رو بگم \\r\\n این اسپیکر از نطر کیفیت ساخت بسته بندی محصول کیفیت صدا عالیه و وضوح و تفکیک صداش فوق العادس البته نباید توقع یک سیستم سینمای خانگی 5.1 کانال داشته باشین ولی از بیس و اجرای صدای زیر و میانه اش لذت خواهید برد و قابل قیاس با محصولات xxup jbl هست . نگاه به برند xxunk نکنین واقعا حرفه ایه \\r\\n دقیقا تا 10 ساعت شارژ نگه میداره و با ولوم 75 % میتونه تا 12 ساعت هم نگه داره \\r\\n صداش داخل ماشین در حد صدای ضبط فابریک پراید هست و از xxunk خوبیم برخورداره و داخل</td>\n",
              "      <td>recommended</td>\n",
              "    </tr>\n",
              "    <tr>\n",
              "      <th>8</th>\n",
              "      <td>xxbos یک تجربه جدید \\r\\n میتونین با همین لنز کیت عکس های ماکرو عالی بگیرین \\r\\n در حالت طبیعی که امکان نداره ! و باید یه جورایی xxunk کنین . \\r\\n ۱ ) کارت حافظه رو خارج کنین و به کامپیوتر xxunk داخل کارت یک فایل txt بسازین . بعد اسم فایل رو تغییر بدین به نام xxunk دقت کنین که اسم فرمتش هم عوض کنین و فایل فرمتش xxunk بشه نه txt . \\r\\n xxunk که ساختین رو با نرم افزار ویندوز + + xxunk بازش کنین . \\r\\n 3 ) همون خط اولش این عبارت رو عینا xxunk : xxunk و بعد فایل رو ذخیره و ببندید و کارت حافظه رو سر جاش توی دوربین قرار بدین . \\r\\n xxunk دوربینو روشن و در حالت xxunk قرار بدین . دکمه ی جهتی xxunk xxunk راست رو پشت سرهم با فاصله زمانی کم بزنین \\r\\n xxunk دکمه نوردهی رو</td>\n",
              "      <td>recommended</td>\n",
              "    </tr>\n",
              "  </tbody>\n",
              "</table>"
            ],
            "text/plain": [
              "<IPython.core.display.HTML object>"
            ]
          },
          "metadata": {
            "tags": []
          }
        }
      ]
    },
    {
      "cell_type": "code",
      "metadata": {
        "colab": {
          "base_uri": "https://localhost:8080/",
          "height": 17
        },
        "id": "EVYRtCMo-omH",
        "outputId": "798c5d52-5274-439e-f357-cd11ed859300"
      },
      "source": [
        "learn = text_classifier_learner(dls, AWD_LSTM, drop_mult=0.5, metrics=accuracy)"
      ],
      "execution_count": 15,
      "outputs": [
        {
          "output_type": "display_data",
          "data": {
            "text/html": [
              ""
            ],
            "text/plain": [
              "<IPython.core.display.HTML object>"
            ]
          },
          "metadata": {
            "tags": []
          }
        }
      ]
    },
    {
      "cell_type": "code",
      "metadata": {
        "colab": {
          "base_uri": "https://localhost:8080/",
          "height": 236
        },
        "id": "i83E411j-wcm",
        "outputId": "394cbb0d-f33d-424f-ff56-563296338f4d"
      },
      "source": [
        "learn.fine_tune(4, 1e-2)"
      ],
      "execution_count": 16,
      "outputs": [
        {
          "output_type": "display_data",
          "data": {
            "text/html": [
              "<table border=\"1\" class=\"dataframe\">\n",
              "  <thead>\n",
              "    <tr style=\"text-align: left;\">\n",
              "      <th>epoch</th>\n",
              "      <th>train_loss</th>\n",
              "      <th>valid_loss</th>\n",
              "      <th>accuracy</th>\n",
              "      <th>time</th>\n",
              "    </tr>\n",
              "  </thead>\n",
              "  <tbody>\n",
              "    <tr>\n",
              "      <td>0</td>\n",
              "      <td>0.616087</td>\n",
              "      <td>0.618082</td>\n",
              "      <td>0.694612</td>\n",
              "      <td>01:07</td>\n",
              "    </tr>\n",
              "  </tbody>\n",
              "</table>"
            ],
            "text/plain": [
              "<IPython.core.display.HTML object>"
            ]
          },
          "metadata": {
            "tags": []
          }
        },
        {
          "output_type": "display_data",
          "data": {
            "text/html": [
              "<table border=\"1\" class=\"dataframe\">\n",
              "  <thead>\n",
              "    <tr style=\"text-align: left;\">\n",
              "      <th>epoch</th>\n",
              "      <th>train_loss</th>\n",
              "      <th>valid_loss</th>\n",
              "      <th>accuracy</th>\n",
              "      <th>time</th>\n",
              "    </tr>\n",
              "  </thead>\n",
              "  <tbody>\n",
              "    <tr>\n",
              "      <td>0</td>\n",
              "      <td>0.620028</td>\n",
              "      <td>0.617701</td>\n",
              "      <td>0.694612</td>\n",
              "      <td>01:36</td>\n",
              "    </tr>\n",
              "    <tr>\n",
              "      <td>1</td>\n",
              "      <td>0.612634</td>\n",
              "      <td>0.615339</td>\n",
              "      <td>0.694612</td>\n",
              "      <td>01:36</td>\n",
              "    </tr>\n",
              "    <tr>\n",
              "      <td>2</td>\n",
              "      <td>0.618190</td>\n",
              "      <td>0.612532</td>\n",
              "      <td>0.694612</td>\n",
              "      <td>01:37</td>\n",
              "    </tr>\n",
              "    <tr>\n",
              "      <td>3</td>\n",
              "      <td>0.610114</td>\n",
              "      <td>0.614850</td>\n",
              "      <td>0.694235</td>\n",
              "      <td>01:37</td>\n",
              "    </tr>\n",
              "  </tbody>\n",
              "</table>"
            ],
            "text/plain": [
              "<IPython.core.display.HTML object>"
            ]
          },
          "metadata": {
            "tags": []
          }
        }
      ]
    },
    {
      "cell_type": "code",
      "metadata": {
        "colab": {
          "base_uri": "https://localhost:8080/",
          "height": 1000
        },
        "id": "kT7UvF0G-2C3",
        "outputId": "8a0f1633-4294-4d20-ddac-a2b98dd3ff25"
      },
      "source": [
        "learn.show_results()"
      ],
      "execution_count": 17,
      "outputs": [
        {
          "output_type": "display_data",
          "data": {
            "text/html": [
              ""
            ],
            "text/plain": [
              "<IPython.core.display.HTML object>"
            ]
          },
          "metadata": {
            "tags": []
          }
        },
        {
          "output_type": "display_data",
          "data": {
            "text/html": [
              "<table border=\"1\" class=\"dataframe\">\n",
              "  <thead>\n",
              "    <tr style=\"text-align: right;\">\n",
              "      <th></th>\n",
              "      <th>text</th>\n",
              "      <th>category</th>\n",
              "      <th>category_</th>\n",
              "    </tr>\n",
              "  </thead>\n",
              "  <tbody>\n",
              "    <tr>\n",
              "      <th>0</th>\n",
              "      <td>xxbos بررسی sandisk xxmaj ultra xxmaj fit xxmaj flash 128 gb \\r\\n می بخشید طولانیه اما امیدوارم مفید باشه براتون . \\r\\n قبل هر چیزی در مورد نظرات یه مطلب بگم ، اینکه بعضی دوستان گفتن خوبه و سرعتش بالاست و بعضی دوستان هم گفتن بد و خیلی سرعتش پایین … در هر دو حالات هر xxunk درست گفتن ! نکته اینجاست ، کسی که میاد و نظرش میگه مشخصات سخت افزاری xxunk ( لب تاپ یا کیس و .. ) رو نمیگه که خیلی خیلی مهمه ! مثلا سرعت خواندن و نوشتن هاردش 5400 دوره یا xxunk دوره ، ( البته سرعت یک هارد xxunk فیک ممکنه از 5400 اصل کمتر باشه ) یا میزان رم و xxup xxunk سیستم و بافر آن یا حتی xxup cpu که در مچ بودن سیستم و انتقال سرعت بسیار مهمه و از همه مهمتر نوع پورت xxup usb سیستم و جنس \"</td>\n",
              "      <td>recommended</td>\n",
              "      <td>recommended</td>\n",
              "    </tr>\n",
              "    <tr>\n",
              "      <th>1</th>\n",
              "      <td>xxbos هدفون بلاژیو xxmaj faith2 \\r\\n با سلام \\r\\n بنده این محصول رو بعد از دو هفته تحقیق در مورد تمامی هدفون ها و امتحان کردن اکثر مارک های معروف و غیر معروف ار دیجی کالا خریداری کردم و حتی قبل از اینکه به دستم برسه صد در صد از کیفیت محصولی که خرید کردم مطمئن بودم بیشتر از این نیاز به تعریف این محصول نیست فقط چند نکته بسیار مهم در مورد تفاوت اساسی این هدفون با هدفون های دیگه خدمت دوستان عرض میکنم تا تونسته باشم در انتخاب محصولی که میخوان خرید کنند راهنمایی موثری کرده باشم . \\r\\n اولین دلیل خوبی این هدفون کیفیت ساخت و ارگونومی خوبشه که در این شکی نیست اما دلایل مهمتر از این قراره که این هدفون چند مورد بسیار خاص داره یکی اینکه پاسخ فرکانسی این هدفون از 15 تا 25 هزار کیلو هرتز هست این یعنی 5 هرتز پایین تر</td>\n",
              "      <td>recommended</td>\n",
              "      <td>recommended</td>\n",
              "    </tr>\n",
              "    <tr>\n",
              "      <th>2</th>\n",
              "      <td>xxbos دیگه تولید نمیشه وگرنه ارزون ترین و با امکانات ترین xxunk xxunk که دیدم . بخرید \\r\\n اگه دستگاه xxunk ( مثلا موبایلتون ) ۵ گیگا هرتز رو ساپورت میکنه و تو محیط کوچیک میخوایید استفاده کنید ، حتما بگیرید . \\r\\n در غیر این صورت هزینه بیخوده . \\r\\n\\r\\n اول بگم که کلا تحقیقی نداریم که بتونه ثابت کنه امواج وایفای مودم ، برای انسان مضره ! چون معمولا بیشتر از یک متر با آدم فاصله داره . چون اسیب این امواج با توان دوم فاصله رابطه عکس داره و با توجه به توان بسیار پایین امواج ، در فواصل بالای یک متر اثر اونها از اثر امواج موتور جارو برقی کمتره xxrep 5 ! xxunk \\r\\n\\r\\n اما با این وجود ، فرکانس ۵ گیگا هرتز هم سرعت بالاتری رو ساپورت میکنه و هم اسیب کمتری ( قدرت نفوذ کمتری ) داره .. یعنی زورش کمتر میرسه که</td>\n",
              "      <td>recommended</td>\n",
              "      <td>recommended</td>\n",
              "    </tr>\n",
              "    <tr>\n",
              "      <th>3</th>\n",
              "      <td>xxbos تجربه استفاده یکماهه \\r\\n با سلام \\r\\n بنده این دستگاه رو از دیجی کالا خریدم و تو پیشنهاد ویژه . \\r\\n تقریبا میشه گفت دستگاه خوبیه و حس جالبی به شما میده xxunk اگه به سینمای xxunk بشه واقعا حس داشتن یک سینمای واقعی رو به شما میده / اما چند تا مشکل داره که من xxunk میگم / \\r\\n اول اینکه کیفیت خروجی صدای دستگاه پایینه xxup aux xxup out داره اما در حد یه گیرنده دیجیتال چینی به شما کیفیت و بلندی صدا میده و شما هر سیستم صوتی به دستگاه وصل کنید انتظار صدای فوق العاده زیاد رو نداشته باشید اما اگر سیستم خوبی دارید و ساب ووفر داره میتونید باهاش فیلم ببینید اما دیدن کلیپ ویدیویی رو اصلا پیشنهاد نمیکنم و اینکه مثل موبایل خروجی بلوتوث نداره که بشه باهاش به باند بلوتوث وصل شد و حتما برای اتصال باند قوی تر باید از طریق</td>\n",
              "      <td>recommended</td>\n",
              "      <td>recommended</td>\n",
              "    </tr>\n",
              "    <tr>\n",
              "      <th>4</th>\n",
              "      <td>xxbos بررسی هدفون \\r\\n مشخصا این هدفون با تناسب قیمتی که برای آن وجود دارد در این xxunk یعنی هدفون بیسیم بسیار مناسب است . \\r\\n قرارگیری در گوش کاملا با xxunk گوش سازگار است \\r\\n در پیک صدا صدای خیلی بالائی ندارد و اگر بخواهیم این موضوع را مهندسی تر بررسی کنیم در تمام هدفون ها وقتی قصد xxunk صدای هدفون را دارید xxunk مبنی بر آزار گوش در صدای بلند روی صفحه موبایل ضاهر میشود که حد متناسب گوش کردن موزیک را به شما اعلان میکند و این هدفون دقیقا همون حد را بعنوان بالاترین مدنظر قرار داده که برای سلامت گوش ضرری در پی نخواهد داشت و در واقع با بالاترین حد صدا گوش به هیچ عنوان در خطر نخواهد بود . \\r\\n گاها دوستان از xxmaj pair نشدن هر دو گوشی نارضایتی داشته اند که تجربه شخصی به جهت کارائی و راندمان استفاده به حضور اعلام</td>\n",
              "      <td>recommended</td>\n",
              "      <td>recommended</td>\n",
              "    </tr>\n",
              "    <tr>\n",
              "      <th>5</th>\n",
              "      <td>xxbos عدم کارایی با اطلاعات ذکر شده در سایت \\r\\n علیرغم اعلام در سایت دیجی ، میزان اکسیژن خون را نشان نمی دهد . بعد از مطالعه بروشور و مشخصات ذکر شده بر روی جعبه کالا ، اصلا این قابلیت در ساعت وجود ندارد . لطفا اطلاعات اشتباه در سایت قید نشود . \\r\\n لطفا راه ارتباط با فروشنده را قرار دهید تا امکان سوال از فروشنده نیز ممکن باشد اکثر این مشکلات به دلیل اطلاعات ناقص و بعضا غلط که در سایت دیجی می باشد پیش می آید . \\r\\n بنده اول مچ بند u xxmaj wear را خریداری کردم که به دلیل اشکال در تاچ عودت دادم و خواستم مدلی بالاتر بگیرم که xxmaj medic را خریدم . با بررسی این دو مچ بند اطلاعات زیر را به شما می دهم : \\r\\n هر دو مچ بند با چرخاندن مچ دست روشن می شوند که اصلا در سایت</td>\n",
              "      <td>not_recommended</td>\n",
              "      <td>recommended</td>\n",
              "    </tr>\n",
              "    <tr>\n",
              "      <th>6</th>\n",
              "      <td>xxbos xxunk \\r\\n با سلام . بنده بعد از کلی xxunk هفته پیش این دوربین رو خریدم . xxunk تخصصی این دوربین ارزش خریدن داره و بسیار کاربردی هست . چون کیفیت تصویر نسبت به سایر دوربینها بسیار خوبه . دید در شب بسیار عالی . تشخیص حرکت و آلارم این دوربین واقعا خوبه و قابلیت اتصال به دستگاههای جانبی نیز داره . فقط برای اتصال به وای فای کمی کند هست و اگه برق بره برای وصل شدن مجدد خیلی کند هست بهترین حالت اینه که بصورت کابل به مودم وصل بشه . مشکل دیگه اینکه با شبکه همراه موبایل بعضی وقتا کار نمیده که اونم مربوط به اینترنت مسخره ایران هست.اگر سرعت اینترنت تون زیر 19 kb / s باشه عملا هیچ دستوری رد و بدل xxunk . عمده ترین مشکل اینه که بدون اینترنت کاربردش خیلی محدود میشه . احتمالا اگه نزدیک دوربین باشین میتونید xxunk کنید</td>\n",
              "      <td>recommended</td>\n",
              "      <td>recommended</td>\n",
              "    </tr>\n",
              "    <tr>\n",
              "      <th>7</th>\n",
              "      <td>xxbos خیلی راضیم \\r\\n من بیشتر از یه سال و نیمه که این کیف رو دارم و یکی از خوبی هاش اینه که به خاطر طراحی طبی اش وزن کیف رو وقتی رو xxunk کمتر از وزن واقعی اش احساس میکنم یعنی به خوبی وزن رو تقسیم میکنه و چون کاملا به پشت میچسبه و فاصله نداره دیرتر آدم رو خسته میکنه . یه دریا جا داره کلی جیب و جیب های داخلی که من با خیال راحت حتی اس دی کارد ها مو توی جیب ها میذارم تا جیب های خیلی بزرگ که مثلا شارژر لپ تابم همیشه جاش تو یکی از xxunk اگه خوب وسیله هاتونو توش بچینید حتی بیشتر هم به نسبت وزن واقعی اش احساس سبکی داره . من اولش میخواستم یه کیف دیگه بگیرم تو همین دیجی کالا خیلی خوشگل بود واقعا ولی بعد منطقی تصمیم گرفتم اینو بگیرم اینقدر محکم و قابل اطمینانه که</td>\n",
              "      <td>recommended</td>\n",
              "      <td>recommended</td>\n",
              "    </tr>\n",
              "    <tr>\n",
              "      <th>8</th>\n",
              "      <td>xxbos خیلی خوب \\r\\n با سلام \\r\\n امروز یک عدد پیچگوشتی / دریل شارژی ماکیتا مدل xxup xxunk خریدم و باید بگم از کیفیت ساخت و طراحیش واقا شگفت زده شدم و یکی از بهترین ابزار های داخل کارگاهم هست . با خرید این محصول تقریبا تمام پیچ گوشتی و دریل های قبلی که گرفته بودم رفت تو انبار و این جای همشون رو گرفت . این پیچگوشتی از نظر سایز و وزن بسیار ایده آل هست و با توجه به جثه کوچیکش میتونه 30 xxunk متر گشتاور تولید کنه که واقعا باور نکردنیه . مارکهای دیگه رو فراموش کنید به نظرم در کلاس همرده ، این دریل / پیچگوشتی از همه بهتره . همیشه فکر میکردم محصولات رده پایین و به درد نخور کمپانی های معروف که در کشورهای دیگه مشتری نداره وارد ایران میشه ولی با استفاده از این دستگاه نظرم کاملا عوض شد . \\r\\n بصورت تیتر</td>\n",
              "      <td>recommended</td>\n",
              "      <td>recommended</td>\n",
              "    </tr>\n",
              "  </tbody>\n",
              "</table>"
            ],
            "text/plain": [
              "<IPython.core.display.HTML object>"
            ]
          },
          "metadata": {
            "tags": []
          }
        }
      ]
    },
    {
      "cell_type": "code",
      "metadata": {
        "colab": {
          "base_uri": "https://localhost:8080/",
          "height": 34
        },
        "id": "sUBIJ1QU_MNQ",
        "outputId": "0e37f27f-1b57-4218-930f-3debf8bcc9c0"
      },
      "source": [
        "learn.predict(\"خیلی عالی بود\")"
      ],
      "execution_count": 28,
      "outputs": [
        {
          "output_type": "display_data",
          "data": {
            "text/html": [
              ""
            ],
            "text/plain": [
              "<IPython.core.display.HTML object>"
            ]
          },
          "metadata": {
            "tags": []
          }
        },
        {
          "output_type": "execute_result",
          "data": {
            "text/plain": [
              "('recommended', tensor(1), tensor([0.3705, 0.6295]))"
            ]
          },
          "metadata": {
            "tags": []
          },
          "execution_count": 28
        }
      ]
    },
    {
      "cell_type": "markdown",
      "metadata": {
        "id": "rPvy2Iu6Eht8"
      },
      "source": [
        "### Fine-Tune pretrained Language Model on our data"
      ]
    },
    {
      "cell_type": "code",
      "metadata": {
        "colab": {
          "base_uri": "https://localhost:8080/",
          "height": 598
        },
        "id": "8J4U6CfBCYPw",
        "outputId": "dfcdaac8-bbc7-4910-d504-ed55e9b54233"
      },
      "source": [
        "dls_lm = TextDataLoaders.from_df(df, text_col=\"text\", label_col=\"recommend\", is_lm=True, valid_pct=0.1)\n",
        "dls_lm.show_batch(max_n=5)"
      ],
      "execution_count": 29,
      "outputs": [
        {
          "output_type": "display_data",
          "data": {
            "text/html": [
              ""
            ],
            "text/plain": [
              "<IPython.core.display.HTML object>"
            ]
          },
          "metadata": {
            "tags": []
          }
        },
        {
          "output_type": "stream",
          "text": [
            "/usr/local/lib/python3.7/dist-packages/numpy/core/_asarray.py:83: VisibleDeprecationWarning: Creating an ndarray from ragged nested sequences (which is a list-or-tuple of lists-or-tuples-or ndarrays with different lengths or shapes) is deprecated. If you meant to do this, you must specify 'dtype=object' when creating the ndarray\n",
            "  return array(a, dtype, copy=False, order=order)\n"
          ],
          "name": "stderr"
        },
        {
          "output_type": "display_data",
          "data": {
            "text/html": [
              "<table border=\"1\" class=\"dataframe\">\n",
              "  <thead>\n",
              "    <tr style=\"text-align: right;\">\n",
              "      <th></th>\n",
              "      <th>text</th>\n",
              "      <th>text_</th>\n",
              "    </tr>\n",
              "  </thead>\n",
              "  <tbody>\n",
              "    <tr>\n",
              "      <th>0</th>\n",
              "      <td>xxbos خیلی خوبه ، میشه گفت یه غول پر قدرت با چشم های معمولی \\r\\n اول اینکه این گوشی برای \\r\\n بازی \\r\\n فیلم \\r\\n نت \\r\\n برنامه نویسی \\r\\n عالیه و دوم اینکه با وجود xxunk برنامه کمکی که در خود رام به صورت xxunk وجود داره از نصب ده ها برنامه ( پاک کردن کش ویرایش عکس و فیلم و … ) خلاص میشید ، برای استفاده بهتر از قسمت</td>\n",
              "      <td>خیلی خوبه ، میشه گفت یه غول پر قدرت با چشم های معمولی \\r\\n اول اینکه این گوشی برای \\r\\n بازی \\r\\n فیلم \\r\\n نت \\r\\n برنامه نویسی \\r\\n عالیه و دوم اینکه با وجود xxunk برنامه کمکی که در خود رام به صورت xxunk وجود داره از نصب ده ها برنامه ( پاک کردن کش ویرایش عکس و فیلم و … ) خلاص میشید ، برای استفاده بهتر از قسمت ریموت</td>\n",
              "    </tr>\n",
              "    <tr>\n",
              "      <th>1</th>\n",
              "      <td>\\r\\n باتری و دوام اون واقعا عالیه ، یه نمه سیم هندزفری ها نازکه ولی اصلا نگران نباشید چون با کیفیت و چیزیش نمیشه ( به شرطی که باهاش کشتی نگیرید ! ) \\r\\n یکی دیگه از خوبیای هندزفری بلوتوث های xxup lg اینه که مثل اکثر شرکتا سیم هندزفری الکی xxunk نیست که تو دست و پا باشه ، یا با اهنربا متصل میشه به بدنه دستگاه یا سیم جمع کن</td>\n",
              "      <td>باتری و دوام اون واقعا عالیه ، یه نمه سیم هندزفری ها نازکه ولی اصلا نگران نباشید چون با کیفیت و چیزیش نمیشه ( به شرطی که باهاش کشتی نگیرید ! ) \\r\\n یکی دیگه از خوبیای هندزفری بلوتوث های xxup lg اینه که مثل اکثر شرکتا سیم هندزفری الکی xxunk نیست که تو دست و پا باشه ، یا با اهنربا متصل میشه به بدنه دستگاه یا سیم جمع کن داره</td>\n",
              "    </tr>\n",
              "    <tr>\n",
              "      <th>2</th>\n",
              "      <td>\\r\\n وصل کردن به کامپیوتر و لپ تاپ از طریق lan \\r\\n قابلیت استفاده از میکرو اس دی از طریق مرورگر \\r\\n خاموش بودن پیش فرض wps \\r\\n ۲۳ ساعت باطری برای استفاده مدام از 3 g \\r\\n گارانتی ۳۶ ماه تعویض xxunk ( نمایندگی اصلی xxunk در ایران ) \\r\\n سرعت استفاده در حال 3 g دو مگابایت دانلود و ۵۰۰ کیلوبایت آپلود \\r\\n داغ کردن خیلی خفیف در موقع استفاده</td>\n",
              "      <td>وصل کردن به کامپیوتر و لپ تاپ از طریق lan \\r\\n قابلیت استفاده از میکرو اس دی از طریق مرورگر \\r\\n خاموش بودن پیش فرض wps \\r\\n ۲۳ ساعت باطری برای استفاده مدام از 3 g \\r\\n گارانتی ۳۶ ماه تعویض xxunk ( نمایندگی اصلی xxunk در ایران ) \\r\\n سرعت استفاده در حال 3 g دو مگابایت دانلود و ۵۰۰ کیلوبایت آپلود \\r\\n داغ کردن خیلی خفیف در موقع استفاده \\r\\n</td>\n",
              "    </tr>\n",
              "    <tr>\n",
              "      <th>3</th>\n",
              "      <td>ابتدا بوی الکل و صابون میده با کمی گذشتن بوی الکل از بین میرود و بوی صابون می ماند از خریدم پشیمانم آبی رنگش بوی بهتری دارد xxbos دقیقا مطابق با تصاویر و دارای بارکد \\r\\n عالیه و با کیفیت و سرعتش هم خوبه \\r\\n من از فروشنده xxunk خریده بودم xxbos عالی و بی نظیر \\r\\n در یک کلام عالیه و فراتر از انتطار شماست چون عملکردش فوق العاده خوبه \\r\\n</td>\n",
              "      <td>بوی الکل و صابون میده با کمی گذشتن بوی الکل از بین میرود و بوی صابون می ماند از خریدم پشیمانم آبی رنگش بوی بهتری دارد xxbos دقیقا مطابق با تصاویر و دارای بارکد \\r\\n عالیه و با کیفیت و سرعتش هم خوبه \\r\\n من از فروشنده xxunk خریده بودم xxbos عالی و بی نظیر \\r\\n در یک کلام عالیه و فراتر از انتطار شماست چون عملکردش فوق العاده خوبه \\r\\n به</td>\n",
              "    </tr>\n",
              "    <tr>\n",
              "      <th>4</th>\n",
              "      <td>من پاور های زیادی مثل روموس . انرجایزر . سیلیکون پاور . شیائومی رو استفاده کردم و به جرات میتونم بگم انکر توی همشون سر بوده چه از نظر کیفیت و چه از نظر شارژ شدن و شارژ کردن دستگاه . سایز مناسبی داره و وزنش هم نسبت به xxunk نرمال و مناسبه . انکر چون تخصصی توی بخش سیو انرژی کار میکنه همیشه تو این بخش حرف داشته واسه گفتن .</td>\n",
              "      <td>پاور های زیادی مثل روموس . انرجایزر . سیلیکون پاور . شیائومی رو استفاده کردم و به جرات میتونم بگم انکر توی همشون سر بوده چه از نظر کیفیت و چه از نظر شارژ شدن و شارژ کردن دستگاه . سایز مناسبی داره و وزنش هم نسبت به xxunk نرمال و مناسبه . انکر چون تخصصی توی بخش سیو انرژی کار میکنه همیشه تو این بخش حرف داشته واسه گفتن . این</td>\n",
              "    </tr>\n",
              "  </tbody>\n",
              "</table>"
            ],
            "text/plain": [
              "<IPython.core.display.HTML object>"
            ]
          },
          "metadata": {
            "tags": []
          }
        }
      ]
    },
    {
      "cell_type": "code",
      "metadata": {
        "id": "GnuwFck-C2SF"
      },
      "source": [
        "learn = language_model_learner(dls_lm, AWD_LSTM, metrics=[accuracy, Perplexity()], wd=0.1).to_fp16()"
      ],
      "execution_count": 31,
      "outputs": []
    },
    {
      "cell_type": "code",
      "metadata": {
        "colab": {
          "base_uri": "https://localhost:8080/",
          "height": 80
        },
        "id": "5WFXcwMcC-_x",
        "outputId": "cfc5ab65-9489-492a-fc7d-94877fa2dab8"
      },
      "source": [
        "learn.fit_one_cycle(1, 1e-2)"
      ],
      "execution_count": 32,
      "outputs": [
        {
          "output_type": "display_data",
          "data": {
            "text/html": [
              "<table border=\"1\" class=\"dataframe\">\n",
              "  <thead>\n",
              "    <tr style=\"text-align: left;\">\n",
              "      <th>epoch</th>\n",
              "      <th>train_loss</th>\n",
              "      <th>valid_loss</th>\n",
              "      <th>accuracy</th>\n",
              "      <th>perplexity</th>\n",
              "      <th>time</th>\n",
              "    </tr>\n",
              "  </thead>\n",
              "  <tbody>\n",
              "    <tr>\n",
              "      <td>0</td>\n",
              "      <td>5.868566</td>\n",
              "      <td>5.679263</td>\n",
              "      <td>0.141222</td>\n",
              "      <td>292.733490</td>\n",
              "      <td>01:31</td>\n",
              "    </tr>\n",
              "  </tbody>\n",
              "</table>"
            ],
            "text/plain": [
              "<IPython.core.display.HTML object>"
            ]
          },
          "metadata": {
            "tags": []
          }
        }
      ]
    },
    {
      "cell_type": "code",
      "metadata": {
        "colab": {
          "base_uri": "https://localhost:8080/",
          "height": 80
        },
        "id": "b1QMSIhDE5d0",
        "outputId": "a54c6b47-4848-43ca-8a25-7b9ae37eb808"
      },
      "source": [
        "# fit last layer\n",
        "learn.fit_one_cycle(1, 1e-2)"
      ],
      "execution_count": 35,
      "outputs": [
        {
          "output_type": "display_data",
          "data": {
            "text/html": [
              "<table border=\"1\" class=\"dataframe\">\n",
              "  <thead>\n",
              "    <tr style=\"text-align: left;\">\n",
              "      <th>epoch</th>\n",
              "      <th>train_loss</th>\n",
              "      <th>valid_loss</th>\n",
              "      <th>accuracy</th>\n",
              "      <th>perplexity</th>\n",
              "      <th>time</th>\n",
              "    </tr>\n",
              "  </thead>\n",
              "  <tbody>\n",
              "    <tr>\n",
              "      <td>0</td>\n",
              "      <td>4.865128</td>\n",
              "      <td>4.711294</td>\n",
              "      <td>0.221739</td>\n",
              "      <td>111.195976</td>\n",
              "      <td>01:33</td>\n",
              "    </tr>\n",
              "  </tbody>\n",
              "</table>"
            ],
            "text/plain": [
              "<IPython.core.display.HTML object>"
            ]
          },
          "metadata": {
            "tags": []
          }
        }
      ]
    },
    {
      "cell_type": "code",
      "metadata": {
        "colab": {
          "base_uri": "https://localhost:8080/",
          "height": 111
        },
        "id": "LZ9PI-YWDWDp",
        "outputId": "a7ef21f9-3377-466c-c3bd-f3033084c2b4"
      },
      "source": [
        "# fit hidden layers\n",
        "learn.unfreeze()\n",
        "learn.fit_one_cycle(2, 1e-3)"
      ],
      "execution_count": 36,
      "outputs": [
        {
          "output_type": "display_data",
          "data": {
            "text/html": [
              "<table border=\"1\" class=\"dataframe\">\n",
              "  <thead>\n",
              "    <tr style=\"text-align: left;\">\n",
              "      <th>epoch</th>\n",
              "      <th>train_loss</th>\n",
              "      <th>valid_loss</th>\n",
              "      <th>accuracy</th>\n",
              "      <th>perplexity</th>\n",
              "      <th>time</th>\n",
              "    </tr>\n",
              "  </thead>\n",
              "  <tbody>\n",
              "    <tr>\n",
              "      <td>0</td>\n",
              "      <td>4.650150</td>\n",
              "      <td>4.621910</td>\n",
              "      <td>0.228286</td>\n",
              "      <td>101.688034</td>\n",
              "      <td>01:33</td>\n",
              "    </tr>\n",
              "    <tr>\n",
              "      <td>1</td>\n",
              "      <td>4.532356</td>\n",
              "      <td>4.579590</td>\n",
              "      <td>0.232649</td>\n",
              "      <td>97.474449</td>\n",
              "      <td>01:32</td>\n",
              "    </tr>\n",
              "  </tbody>\n",
              "</table>"
            ],
            "text/plain": [
              "<IPython.core.display.HTML object>"
            ]
          },
          "metadata": {
            "tags": []
          }
        }
      ]
    },
    {
      "cell_type": "code",
      "metadata": {
        "colab": {
          "base_uri": "https://localhost:8080/",
          "height": 187
        },
        "id": "AuZUzuoiDL8l",
        "outputId": "6395a78e-2518-4e5c-8873-80faf8b821c3"
      },
      "source": [
        "TEXT = \"گوشی خوبی هست ولی\"\n",
        "N_WORDS = 40\n",
        "N_SENTENCES = 2\n",
        "preds = [learn.predict(TEXT, N_WORDS, temperature=0.75) for _ in range(N_SENTENCES)]\n",
        "print(\"\\n\".join(preds))"
      ],
      "execution_count": 37,
      "outputs": [
        {
          "output_type": "display_data",
          "data": {
            "text/html": [
              ""
            ],
            "text/plain": [
              "<IPython.core.display.HTML object>"
            ]
          },
          "metadata": {
            "tags": []
          }
        },
        {
          "output_type": "display_data",
          "data": {
            "text/html": [
              ""
            ],
            "text/plain": [
              "<IPython.core.display.HTML object>"
            ]
          },
          "metadata": {
            "tags": []
          }
        },
        {
          "output_type": "stream",
          "text": [
            "گوشی خوبی هست ولی خوب نیست \r\n",
            " اصلا جالب نیست اصلا ب درد نمی خوره کیفیت بالا \r\n",
            " این هدفون رو تازه خریدم و ازش استفاده میکنم ، بسیار عالیست و با اینکه باهاش کار کردم از همه لحاظ عالیه و وزن کمی\n",
            "گوشی خوبی هست ولی من چند ساله خریدم فکر کردم \r\n",
            " همون اول که گوشی رو با آیفون وصلش کردم هیچ مشکلی نداشته کیفیت محصول \r\n",
            " سلام دوستان \r\n",
            " خیلی زیباست \r\n",
            " شیک و مقاوم \r\n",
            " ظاهر قشنگی داره \r\n",
            " نوک دکمه ها\n"
          ],
          "name": "stdout"
        }
      ]
    },
    {
      "cell_type": "code",
      "metadata": {
        "id": "DeF5JcKrE0_4"
      },
      "source": [
        "learn.save_encoder('fine_tuned')"
      ],
      "execution_count": 38,
      "outputs": []
    },
    {
      "cell_type": "markdown",
      "metadata": {
        "id": "esSGoX8gFZBB"
      },
      "source": [
        "### Use new language model for text classification task"
      ]
    },
    {
      "cell_type": "code",
      "metadata": {
        "colab": {
          "base_uri": "https://localhost:8080/",
          "height": 71
        },
        "id": "WRD5Qgw3FT58",
        "outputId": "a71c052e-5339-446c-e412-901b524b6a75"
      },
      "source": [
        "dls_clas = TextDataLoaders.from_df(df, text_col=\"text\", \n",
        "                                   label_col=\"recommend\", \n",
        "                                   valid=\"test\", \n",
        "                                   text_vocab=dls_lm.vocab)"
      ],
      "execution_count": 39,
      "outputs": [
        {
          "output_type": "display_data",
          "data": {
            "text/html": [
              ""
            ],
            "text/plain": [
              "<IPython.core.display.HTML object>"
            ]
          },
          "metadata": {
            "tags": []
          }
        },
        {
          "output_type": "stream",
          "text": [
            "/usr/local/lib/python3.7/dist-packages/numpy/core/_asarray.py:83: VisibleDeprecationWarning: Creating an ndarray from ragged nested sequences (which is a list-or-tuple of lists-or-tuples-or ndarrays with different lengths or shapes) is deprecated. If you meant to do this, you must specify 'dtype=object' when creating the ndarray\n",
            "  return array(a, dtype, copy=False, order=order)\n"
          ],
          "name": "stderr"
        }
      ]
    },
    {
      "cell_type": "code",
      "metadata": {
        "id": "pQuf-XinFfec"
      },
      "source": [
        "learn = text_classifier_learner(dls_clas, AWD_LSTM, drop_mult=0.5, metrics=accuracy)"
      ],
      "execution_count": 40,
      "outputs": []
    },
    {
      "cell_type": "code",
      "metadata": {
        "id": "aBqhBKH9F7fj"
      },
      "source": [
        "learn = learn.load_encoder('fine_tuned')"
      ],
      "execution_count": 41,
      "outputs": []
    },
    {
      "cell_type": "code",
      "metadata": {
        "colab": {
          "base_uri": "https://localhost:8080/",
          "height": 80
        },
        "id": "rdar65-NF9fv",
        "outputId": "758fb1d9-4605-4692-94c4-38e7504a7edc"
      },
      "source": [
        "learn.fit_one_cycle(1, 2e-2)"
      ],
      "execution_count": 42,
      "outputs": [
        {
          "output_type": "display_data",
          "data": {
            "text/html": [
              "<table border=\"1\" class=\"dataframe\">\n",
              "  <thead>\n",
              "    <tr style=\"text-align: left;\">\n",
              "      <th>epoch</th>\n",
              "      <th>train_loss</th>\n",
              "      <th>valid_loss</th>\n",
              "      <th>accuracy</th>\n",
              "      <th>time</th>\n",
              "    </tr>\n",
              "  </thead>\n",
              "  <tbody>\n",
              "    <tr>\n",
              "      <td>0</td>\n",
              "      <td>0.199918</td>\n",
              "      <td>0.164505</td>\n",
              "      <td>0.936982</td>\n",
              "      <td>01:08</td>\n",
              "    </tr>\n",
              "  </tbody>\n",
              "</table>"
            ],
            "text/plain": [
              "<IPython.core.display.HTML object>"
            ]
          },
          "metadata": {
            "tags": []
          }
        }
      ]
    },
    {
      "cell_type": "code",
      "metadata": {
        "colab": {
          "base_uri": "https://localhost:8080/",
          "height": 80
        },
        "id": "-styY_CPF_wi",
        "outputId": "879ccb6c-3d86-43d9-c2d9-c521f0cfab38"
      },
      "source": [
        "# unfreeze all layers except 2 last layers\n",
        "learn.freeze_to(-2)\n",
        "learn.fit_one_cycle(1, slice(1e-2/(2.6**4),1e-2))"
      ],
      "execution_count": 43,
      "outputs": [
        {
          "output_type": "display_data",
          "data": {
            "text/html": [
              "<table border=\"1\" class=\"dataframe\">\n",
              "  <thead>\n",
              "    <tr style=\"text-align: left;\">\n",
              "      <th>epoch</th>\n",
              "      <th>train_loss</th>\n",
              "      <th>valid_loss</th>\n",
              "      <th>accuracy</th>\n",
              "      <th>time</th>\n",
              "    </tr>\n",
              "  </thead>\n",
              "  <tbody>\n",
              "    <tr>\n",
              "      <td>0</td>\n",
              "      <td>0.168610</td>\n",
              "      <td>0.132024</td>\n",
              "      <td>0.949322</td>\n",
              "      <td>01:11</td>\n",
              "    </tr>\n",
              "  </tbody>\n",
              "</table>"
            ],
            "text/plain": [
              "<IPython.core.display.HTML object>"
            ]
          },
          "metadata": {
            "tags": []
          }
        }
      ]
    },
    {
      "cell_type": "code",
      "metadata": {
        "colab": {
          "base_uri": "https://localhost:8080/",
          "height": 34
        },
        "id": "Ek39pXpbGEcF",
        "outputId": "97fe5994-9676-475a-f3da-8a5f94f2176f"
      },
      "source": [
        "learn.predict(\"خیلی بد بود\")"
      ],
      "execution_count": 46,
      "outputs": [
        {
          "output_type": "display_data",
          "data": {
            "text/html": [
              ""
            ],
            "text/plain": [
              "<IPython.core.display.HTML object>"
            ]
          },
          "metadata": {
            "tags": []
          }
        },
        {
          "output_type": "execute_result",
          "data": {
            "text/plain": [
              "('not_recommended', tensor(0), tensor([0.9619, 0.0381]))"
            ]
          },
          "metadata": {
            "tags": []
          },
          "execution_count": 46
        }
      ]
    },
    {
      "cell_type": "code",
      "metadata": {
        "colab": {
          "base_uri": "https://localhost:8080/",
          "height": 34
        },
        "id": "17nrqrq5H8SG",
        "outputId": "c80932e5-a3cf-484d-8394-2b3fe115a053"
      },
      "source": [
        "learn.predict(\"افتضاح بود\")"
      ],
      "execution_count": 47,
      "outputs": [
        {
          "output_type": "display_data",
          "data": {
            "text/html": [
              ""
            ],
            "text/plain": [
              "<IPython.core.display.HTML object>"
            ]
          },
          "metadata": {
            "tags": []
          }
        },
        {
          "output_type": "execute_result",
          "data": {
            "text/plain": [
              "('not_recommended', tensor(0), tensor([0.9553, 0.0447]))"
            ]
          },
          "metadata": {
            "tags": []
          },
          "execution_count": 47
        }
      ]
    },
    {
      "cell_type": "code",
      "metadata": {
        "colab": {
          "base_uri": "https://localhost:8080/",
          "height": 34
        },
        "id": "FetsP7p6H-j3",
        "outputId": "a8be5e58-a2fe-4101-e637-3018c249c443"
      },
      "source": [
        "learn.predict(\"عالی بود\")"
      ],
      "execution_count": 48,
      "outputs": [
        {
          "output_type": "display_data",
          "data": {
            "text/html": [
              ""
            ],
            "text/plain": [
              "<IPython.core.display.HTML object>"
            ]
          },
          "metadata": {
            "tags": []
          }
        },
        {
          "output_type": "execute_result",
          "data": {
            "text/plain": [
              "('recommended', tensor(1), tensor([0.0093, 0.9907]))"
            ]
          },
          "metadata": {
            "tags": []
          },
          "execution_count": 48
        }
      ]
    }
  ]
}