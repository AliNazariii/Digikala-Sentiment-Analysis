{
  "nbformat": 4,
  "nbformat_minor": 0,
  "metadata": {
    "colab": {
      "name": "sentiment.ipynb",
      "provenance": [],
      "collapsed_sections": []
    },
    "kernelspec": {
      "name": "python3",
      "display_name": "Python 3"
    },
    "language_info": {
      "name": "python"
    },
    "accelerator": "GPU"
  },
  "cells": [
    {
      "cell_type": "markdown",
      "metadata": {
        "id": "x2CO2Fnl_u0o"
      },
      "source": [
        "## Sentimenet Analysis with fastai"
      ]
    },
    {
      "cell_type": "code",
      "metadata": {
        "id": "f9_3mSoD74LH"
      },
      "source": [
        "!pip install -U fastai"
      ],
      "execution_count": null,
      "outputs": []
    },
    {
      "cell_type": "code",
      "metadata": {
        "id": "Pfw8jC-V3NfP"
      },
      "source": [
        "import pandas as pd\n",
        "from fastai.text.all import *"
      ],
      "execution_count": null,
      "outputs": []
    },
    {
      "cell_type": "code",
      "metadata": {
        "id": "5bhDz4jx5eYs"
      },
      "source": [
        "raw_df = pd.read_excel(\"./drive/MyDrive/digikala.xlsx\")"
      ],
      "execution_count": null,
      "outputs": []
    },
    {
      "cell_type": "code",
      "metadata": {
        "colab": {
          "base_uri": "https://localhost:8080/"
        },
        "id": "bbc_6P7f5j0A",
        "outputId": "cb12f6d2-6219-4f35-c9c4-cc77cd302197"
      },
      "source": [
        "raw_df.columns"
      ],
      "execution_count": null,
      "outputs": [
        {
          "output_type": "execute_result",
          "data": {
            "text/plain": [
              "Index(['product_id', 'product_title', 'title_en', 'user_id', 'likes',\n",
              "       'dislikes', 'verification_status', 'recommend', 'title', 'comment',\n",
              "       'advantages', 'disadvantages'],\n",
              "      dtype='object')"
            ]
          },
          "metadata": {
            "tags": []
          },
          "execution_count": 4
        }
      ]
    },
    {
      "cell_type": "code",
      "metadata": {
        "id": "P37L30bq9FK4"
      },
      "source": [
        "df = raw_df.copy()\n",
        "df[\"text\"] = df[\"title\"].astype(str) + \"\\r\\n\" + df[\"comment\"].astype(str)"
      ],
      "execution_count": null,
      "outputs": []
    },
    {
      "cell_type": "code",
      "metadata": {
        "id": "J1yPlkNe5yEx"
      },
      "source": [
        "df = df[df.recommend.isin([\"recommended\", \"not_recommended\"])].loc[:, [\"text\", \"recommend\"]]"
      ],
      "execution_count": null,
      "outputs": []
    },
    {
      "cell_type": "markdown",
      "metadata": {
        "id": "WNwDxmMNEVMy"
      },
      "source": [
        "### Specific text classification task with pretrained model\n"
      ]
    },
    {
      "cell_type": "code",
      "metadata": {
        "colab": {
          "base_uri": "https://localhost:8080/",
          "height": 71
        },
        "id": "x6dWJOka7Nhl",
        "outputId": "aff7b332-ba00-4d0c-8174-5a5f5791a88f"
      },
      "source": [
        "dls = TextDataLoaders.from_df(df, text_col=\"text\", label_col=\"recommend\", valid_pct=0.1)"
      ],
      "execution_count": null,
      "outputs": [
        {
          "output_type": "display_data",
          "data": {
            "text/html": [
              ""
            ],
            "text/plain": [
              "<IPython.core.display.HTML object>"
            ]
          },
          "metadata": {
            "tags": []
          }
        },
        {
          "output_type": "stream",
          "text": [
            "/usr/local/lib/python3.7/dist-packages/numpy/core/_asarray.py:83: VisibleDeprecationWarning: Creating an ndarray from ragged nested sequences (which is a list-or-tuple of lists-or-tuples-or ndarrays with different lengths or shapes) is deprecated. If you meant to do this, you must specify 'dtype=object' when creating the ndarray\n",
            "  return array(a, dtype, copy=False, order=order)\n"
          ],
          "name": "stderr"
        }
      ]
    },
    {
      "cell_type": "code",
      "metadata": {
        "colab": {
          "base_uri": "https://localhost:8080/",
          "height": 838
        },
        "id": "vFBTZJVy8lj9",
        "outputId": "3d862225-b903-4357-c9cb-310a18d266c1"
      },
      "source": [
        "dls.show_batch()"
      ],
      "execution_count": null,
      "outputs": [
        {
          "output_type": "display_data",
          "data": {
            "text/html": [
              "<table border=\"1\" class=\"dataframe\">\n",
              "  <thead>\n",
              "    <tr style=\"text-align: right;\">\n",
              "      <th></th>\n",
              "      <th>text</th>\n",
              "      <th>category</th>\n",
              "    </tr>\n",
              "  </thead>\n",
              "  <tbody>\n",
              "    <tr>\n",
              "      <th>0</th>\n",
              "      <td>xxbos بررسی sandisk xxmaj ultra xxmaj fit xxmaj flash 128 gb \\r\\n می بخشید طولانیه اما امیدوارم مفید باشه براتون . \\r\\n قبل هر چیزی در مورد نظرات یه مطلب بگم ، اینکه بعضی دوستان گفتن خوبه و سرعتش بالاست و بعضی دوستان هم گفتن بد و خیلی سرعتش پایین … در هر دو حالات هر xxunk درست گفتن ! نکته اینجاست ، کسی که میاد و نظرش میگه مشخصات سخت افزاری xxunk ( لب تاپ یا کیس و .. ) رو نمیگه که خیلی خیلی مهمه ! مثلا سرعت خواندن و نوشتن هاردش 5400 دوره یا xxunk دوره ، ( البته سرعت یک هارد xxunk فیک ممکنه از 5400 اصل کمتر باشه ) یا میزان رم و xxup xxunk سیستم و بافر آن یا حتی xxup cpu که در مچ بودن سیستم و انتقال سرعت بسیار مهمه و از همه مهمتر نوع پورت xxup usb سیستم و جنس \"</td>\n",
              "      <td>recommended</td>\n",
              "    </tr>\n",
              "    <tr>\n",
              "      <th>1</th>\n",
              "      <td>xxbos چای سفید با کیفیت اصیل \\r\\n وقتی برای اولین مرتبه یک محصولی همانند این محصول که چای سفید هست میخواهیم امتحان کنیم ، معمولا در اینترنت جستجویی انجام xxunk و اطلاعات کلی در مورد محصول کسب میکنیم . قبل از خرید این محصول من هم یک تحقیق کلی در زمینه چای سفید xxunk از شکل ظاهری ، طعم و عطر محصول انجام xxunk از رسیدن سفارش و باز نمودن بسته اولین موردی که سبب xxunk xxunk مطابقت شکل ظاهری برگه های چای سفید این محصول با عرف استاندارد برگه های چای سفید بود . شاید بگید مگر می شود فرق محسوس و زیادی داشته باشد در پاسخ باید بگویم متاسفانه یک برند مشهور دیگر را در این زمینه نیز امتحان نمودم و محتوی داخل بسته بندی به تنها چیزی که شباهت نداشت چای سفید بود ! خب از توضیحات این محصول و تجربه ای که داشتم خارج نشیم ،</td>\n",
              "      <td>recommended</td>\n",
              "    </tr>\n",
              "    <tr>\n",
              "      <th>2</th>\n",
              "      <td>xxbos از انتخابم کاملا راضیم \\r\\n من ازش راضیم خودم اسفند 95 خریدمش واقعا دوست داشتنیه . بارها پیش اومده که xxunk یه کاری میکردیم لپ تاب اپل با سیستم عامل مکینتاش نکشیده و xxunk کرده ولی لپ تاب من عین بنز انجام داده . البته قبول دارم که به خود کاربر هم بستگی داره که کامپیوتر رو نزنه داغون کنه و xxunk اش به xxunk ها باشه و … ولی واقعا خوبه . اگه هم مشکلی بوده به خاطر باگ xxunk آپدیت های ویندوز بوده من از خودش مشکلی ندیدم . فارسی نداشتن رو کیبورد رو خیلی ها نقطه ضعف نوشتن واقعا کارش فقط یه برچسبه نمی دونم نقطه ضعفش چیه خب واسه ایران xxunk که نقطه ضعف نیست . در مورد پورت هاش عالیه یه وقتایی باید چند تا فلش بزنم و همزمان دانگل موس هم هست ( موس اش عالیه ولی من دوست دارم دستم کنار کامپیوتر</td>\n",
              "      <td>recommended</td>\n",
              "    </tr>\n",
              "    <tr>\n",
              "      <th>3</th>\n",
              "      <td>xxbos xxunk \\r\\n با سلام . بنده بعد از کلی xxunk هفته پیش این دوربین رو خریدم . xxunk تخصصی این دوربین ارزش خریدن داره و بسیار کاربردی هست . چون کیفیت تصویر نسبت به سایر دوربینها بسیار خوبه . دید در شب بسیار عالی . تشخیص حرکت و آلارم این دوربین واقعا خوبه و قابلیت اتصال به دستگاههای جانبی نیز داره . فقط برای اتصال به وای فای کمی کند هست و اگه برق بره برای وصل شدن مجدد خیلی کند هست بهترین حالت اینه که بصورت کابل به مودم وصل بشه . مشکل دیگه اینکه با شبکه همراه موبایل بعضی وقتا کار نمیده که اونم مربوط به اینترنت مسخره ایران هست.اگر سرعت اینترنت تون زیر 19 kb / s باشه عملا هیچ دستوری رد و بدل xxunk . عمده ترین مشکل اینه که بدون اینترنت کاربردش خیلی محدود میشه . احتمالا اگه نزدیک دوربین باشین میتونید xxunk کنید</td>\n",
              "      <td>recommended</td>\n",
              "    </tr>\n",
              "    <tr>\n",
              "      <th>4</th>\n",
              "      <td>xxbos استفاده ی دوساله \\r\\n امروز میشه دقیقا دوساله که دارم از این پروژکتور استفاده میکنم ، دو ماه بعد از اینکه اینو خریدم مدل mp - xxunk به بازار اومد ولی بازم از خریدم راضیم چون واقعا بهترین xxunk که تو عمرم xxunk نتیجه استفاده ای که با این پروژکتور داشتم باید بگم که کیفیت تصویر بس xxrep 4 ی ار واضحی داره ولی بدونید که اگر میخواید بهترین کیفیت رو دریافت کنید باید چراغ هارو خاموش کنید و شب هم باشه ( من که خودم هر موقع بخوام فیلم نگاه کنم چه تو این پروژکتور یا تلویزیون xxunk خاموش میکنم چون به آدم حس بهتری میده بخصوص با این xxunk ) ، فقط یه توصیه مهم بهتون بکنم ، با خرید این ، یک بلند گوی کوچیک که جایگاه ورودی aux داشته باشه رو هم خریداری کنید چون بلندگوی خودش فقط برای دو الی سه نفر پاسخگو هست</td>\n",
              "      <td>recommended</td>\n",
              "    </tr>\n",
              "    <tr>\n",
              "      <th>5</th>\n",
              "      <td>xxbos مناسب فیلم دیدن \\r\\n حدود ۶ ماه هست که این پروژکتور را خریدم ، یک پرده نمایش xxunk متر هم همزمان از دیجی با قیمت عالی خریدم .. و داخل اتاقم نصب xxunk سینما را داخل خونه آوردم . در مورد خود دستگاه که با توجه به قیمت عالیه،فقط کافیه یه فیلم 1080 دانلود و از گوشی پخش کنید تا به کیفیت این پروژکتور پی xxunk بار استوانه ای یک متری هم پایین پرده نصب کردم ( که اونم از دیجی خان خریدم ) . گوشی نوت ۸ را از طریق xxup hdmi بهش وصل کردم ، البته با screen mirror هم راحت به پروژکتور وصل میشه که خوشبختانه نوت ۸ برنامه xxmaj smart xxmaj xxunk داره و نیاز به دانلود برنامه ای نداره و با یک کلیک متصل میشه . بلوتوث دستگاه خیلی خوبه هم به ساند بار و اسپیکر و هم به هدفون و ایرفون وصل میشه،البته</td>\n",
              "      <td>recommended</td>\n",
              "    </tr>\n",
              "    <tr>\n",
              "      <th>6</th>\n",
              "      <td>xxbos جزئیات فنی و تجربه شخصی من \\r\\n چند روزی هست که این کارواش بدستم رسیده و من تجربه ی کار با محصولات مشابه رو ندارم . \\r\\n موقع بازکردن جعبه بعضی از قسمتهای کارواش کثیف بود که بعدا متوجه شدم احتمالا توسط سازنده گریس مالی شده و تکه هایی هم از فوم ها ی جعبه به این گریس چسبیده و منظره ی بدی ایجاد کرده ولی مشکلی نبود . \\r\\n سرهم کردن قطعات و نصبش با خوندن راهنماش چند دقیقه بیشتر طول نکشید ، تنها موردی که هست اینه که دوشاخه برقش از نوع xxunk ، نوع g هست و xxunk هم در جعبه نیست . من از مبدل لپ تاپم استفاده کردم . \\r\\n اتصالات آبیش هیچ چکه ای نداره . و خوبه \\r\\n اگر برای شما هم xxunk که \" آیا میشه با یک گالن بیست لیتری ماشین رو شست \" ؟ باید بگم که روز اول</td>\n",
              "      <td>recommended</td>\n",
              "    </tr>\n",
              "    <tr>\n",
              "      <th>7</th>\n",
              "      <td>xxbos کارواش نانو تام کلین \\r\\n با سلام دوستان می‌خوام یه بررسی کامل بزارم واسه همه عزیزانی که قصد خرید دارند این روش شستن باعث صرفه جویی بسیار زیاد آب میشه و در کشورهای اروپایی این روش جایگزین شده در بیشتر جاها اما متاسفانه به دلیل عدم آگاهی افراد در استفاده صحیح فرد xxunk میشه و فک می‌کنه این محصولات xxunk هستن \\r\\n اول از همه بگم این کارواش ها دو نوع دارن پایه روغن و پایه xxunk \\r\\n این محصول پایه آب و الکل هست یعنی شما نمیتونی واسه ماشینی که خیلی کثیف هست ازش استفاده کنی بلکه باید اول ماشین رو با آب تمیز بشویید و بعدش برای دفعات بعد نیازی به آب نیست و فقط کافیه هر ۱ . هفته ۱ بار با دو عدد دستمال به این صورت که با دستمال تمیز اولی کمی اسپری کنید و خوب گرد و خاک رو بگیرید بعد از برداشتن</td>\n",
              "      <td>recommended</td>\n",
              "    </tr>\n",
              "    <tr>\n",
              "      <th>8</th>\n",
              "      <td>xxbos هدفون وان مور مدل xxup vr xxmaj gaming \\r\\n اگر به دنبال یک هدست قوی برای لذت بردن از دو دنیای گیمینگ و موسیقی هستید ، 1more xxmaj xxunk xxup vr xxmaj gaming را در صدر xxunk خرید خود قرار دهید . \\r\\n اگرچه توصیف تجربه لذت بخش صدای تولید شده از این هدست قدرتمند در کلمات آسان نیست ، اما اگر یک هدفون xxunk خوب برای گیمینگ نیاز دارید که بتواند جزئیات صدای بازی را به درستی پخش کند و در عین حال از ظاهر حرفه ای ، قدرت و دوام خوبی برخوردار باشد ، این هدست مخصوص شماست . اگر از موسیقی با صدای بیس بالا که بتواند xxunk باشد ، لذت می برید ، بازهم می توانید به کیفیت عالی و hi - fi تولید شده در این هدست اطمینان کنید و از خرید آن پشیمان نشوید . در پخش انواع موسیقی هیچ xxunk در صدا</td>\n",
              "      <td>recommended</td>\n",
              "    </tr>\n",
              "  </tbody>\n",
              "</table>"
            ],
            "text/plain": [
              "<IPython.core.display.HTML object>"
            ]
          },
          "metadata": {
            "tags": []
          }
        }
      ]
    },
    {
      "cell_type": "code",
      "metadata": {
        "colab": {
          "base_uri": "https://localhost:8080/",
          "height": 17
        },
        "id": "EVYRtCMo-omH",
        "outputId": "df0382c7-27a2-42a2-cab1-5a62aa653b15"
      },
      "source": [
        "learn = text_classifier_learner(dls, AWD_LSTM, drop_mult=0.5, metrics=accuracy)"
      ],
      "execution_count": null,
      "outputs": [
        {
          "output_type": "display_data",
          "data": {
            "text/html": [
              ""
            ],
            "text/plain": [
              "<IPython.core.display.HTML object>"
            ]
          },
          "metadata": {
            "tags": []
          }
        }
      ]
    },
    {
      "cell_type": "code",
      "metadata": {
        "colab": {
          "base_uri": "https://localhost:8080/",
          "height": 174
        },
        "id": "i83E411j-wcm",
        "outputId": "d9ff0521-631b-46ea-9b0d-2ae2e54f6e5a"
      },
      "source": [
        "learn.fine_tune(2, 1e-2)"
      ],
      "execution_count": null,
      "outputs": [
        {
          "output_type": "display_data",
          "data": {
            "text/html": [
              "<table border=\"1\" class=\"dataframe\">\n",
              "  <thead>\n",
              "    <tr style=\"text-align: left;\">\n",
              "      <th>epoch</th>\n",
              "      <th>train_loss</th>\n",
              "      <th>valid_loss</th>\n",
              "      <th>accuracy</th>\n",
              "      <th>time</th>\n",
              "    </tr>\n",
              "  </thead>\n",
              "  <tbody>\n",
              "    <tr>\n",
              "      <td>0</td>\n",
              "      <td>0.618544</td>\n",
              "      <td>0.613677</td>\n",
              "      <td>0.702524</td>\n",
              "      <td>01:09</td>\n",
              "    </tr>\n",
              "  </tbody>\n",
              "</table>"
            ],
            "text/plain": [
              "<IPython.core.display.HTML object>"
            ]
          },
          "metadata": {
            "tags": []
          }
        },
        {
          "output_type": "display_data",
          "data": {
            "text/html": [
              "<table border=\"1\" class=\"dataframe\">\n",
              "  <thead>\n",
              "    <tr style=\"text-align: left;\">\n",
              "      <th>epoch</th>\n",
              "      <th>train_loss</th>\n",
              "      <th>valid_loss</th>\n",
              "      <th>accuracy</th>\n",
              "      <th>time</th>\n",
              "    </tr>\n",
              "  </thead>\n",
              "  <tbody>\n",
              "    <tr>\n",
              "      <td>0</td>\n",
              "      <td>0.616603</td>\n",
              "      <td>0.607997</td>\n",
              "      <td>0.702524</td>\n",
              "      <td>01:43</td>\n",
              "    </tr>\n",
              "    <tr>\n",
              "      <td>1</td>\n",
              "      <td>0.613468</td>\n",
              "      <td>0.607608</td>\n",
              "      <td>0.702524</td>\n",
              "      <td>01:42</td>\n",
              "    </tr>\n",
              "  </tbody>\n",
              "</table>"
            ],
            "text/plain": [
              "<IPython.core.display.HTML object>"
            ]
          },
          "metadata": {
            "tags": []
          }
        }
      ]
    },
    {
      "cell_type": "code",
      "metadata": {
        "colab": {
          "base_uri": "https://localhost:8080/",
          "height": 923
        },
        "id": "kT7UvF0G-2C3",
        "outputId": "ba3eda92-0e01-41f1-8937-2db127d0ebc4"
      },
      "source": [
        "learn.show_results()"
      ],
      "execution_count": null,
      "outputs": [
        {
          "output_type": "display_data",
          "data": {
            "text/html": [
              ""
            ],
            "text/plain": [
              "<IPython.core.display.HTML object>"
            ]
          },
          "metadata": {
            "tags": []
          }
        },
        {
          "output_type": "display_data",
          "data": {
            "text/html": [
              "<table border=\"1\" class=\"dataframe\">\n",
              "  <thead>\n",
              "    <tr style=\"text-align: right;\">\n",
              "      <th></th>\n",
              "      <th>text</th>\n",
              "      <th>category</th>\n",
              "      <th>category_</th>\n",
              "    </tr>\n",
              "  </thead>\n",
              "  <tbody>\n",
              "    <tr>\n",
              "      <th>0</th>\n",
              "      <td>xxbos بررسی هدست ( گردنی ! ) 1 \\r\\n اولی که دیدمش با یه جعبه ی مشکی که از چند نقطه پاره بود مواجه شدم . درون جعبه یه قالب پلاستیکی ( نه چندان تمییز ) که هدست توش قرار داشت ، دو جفت سریِ قابل xxunk ، راهنمای مصرف کننده و یه کابل شارژ میکرو یو اس xxunk خیلی کوتاه موجود بود . \\r\\n این محصول با نام xxup s9 متعلق به شرکت xxup xxunk و ساخت xxunk چینه که در چهار رنگِ قرمز ، نقره ای ، طلایی و زرد به بازار عرضه شده . روی جعبه برچسب اصالت شرکت هم زده شده . \\r\\n نکته ای که از اول برام عجیب اومد تفاوت گفته های روی جعبه با برگه ی راهنمای استفاده کننده بود . که اطلاعات روی برگه ی راهنما به واقعیت xxunk . \\r\\n روی جعبه زمان دشارژ شدن باتری در حالت استفاده ی مداوم</td>\n",
              "      <td>recommended</td>\n",
              "      <td>recommended</td>\n",
              "    </tr>\n",
              "    <tr>\n",
              "      <th>1</th>\n",
              "      <td>xxbos تجربه دو ماه استفاده \\r\\n یک مدل قدیمی ریش تراش فیلیپس داشتم که از کار افتاد اومدم توی دیجی کالا و چند روز تمام مدل های ریش تراش را بالا پایین کردم و نظرات را خوندم و عملا هم نظرات کمک شایانی به انتخاب شما نمیکند چون یکی صددرصد تایید میکنه و یکی اصلا بهتون پیشنهاد نمیده ! در نهایت دل رو زدم به دریا و این مدل را خریدم هرچند که قیمت به نسبت بالایی داشت . وقتی به دستم رسید و بازش کردم اول چیزی که جلب توجه کرد ارگونومی خوب و خوش دست بودنشه که باعث میشه خوب توی دستتون قرار بگیره جایی هم که xxunk شما قرار میگیره از جنس لاستیک هست که به دست شما میچسبه و نگرانی شما را از افتادنش در حین اصلاح کمتر میکنه . رنگ و طرح جذابش هم بهتون حس خوشایندی میده . سر سه تایی اون هم از</td>\n",
              "      <td>recommended</td>\n",
              "      <td>recommended</td>\n",
              "    </tr>\n",
              "    <tr>\n",
              "      <th>2</th>\n",
              "      <td>xxbos نقد پس از ۳ هفته استفاده \\r\\n با سلام \\r\\n بجز سایز صفحه نمایش ، مشخصات و عملکرد مدل ۱۰ و ۹ اینچی کاملا یکسانه بنابراین چنانچه در خرید بین این دو مدل مردد هستید با خواندن این بررسی میتونید تا حدودی زیادی تصمیم بگیرید . باتری هر دو مدل 2200 میلی آمپری و رزولوشن صفحه هر دو xxunk در 600 پیکسل هست که تراکم پیکسلی 132 برای مدل ۹ اینچ و 110 رو برای مدل 10 اینچ رقم میزنه . با توجه به این دو مورد بنظر من خرید مدل ۹ اینچ منطقی تره با اینحال سلیقه هر کس متفاوته . \\r\\n اگر تابحال محصولات مارشال رو تجربه کرده باشید قطعا میدونید که همگی اونها یک خصوصیت مشترک دارند : ارائه امکانات فراوان در کنار قیمت رقابتی و دارا بودن کیفیت معمولی . این مانیتور هم از این xxunk xxunk نیست و در کنار آپشن های متفاوتی که</td>\n",
              "      <td>recommended</td>\n",
              "      <td>recommended</td>\n",
              "    </tr>\n",
              "    <tr>\n",
              "      <th>3</th>\n",
              "      <td>xxbos برسی کیف xxunk xxup xxunk \\r\\n من این کیف به قصد دوتا کیف گرفتم ، در واقع خواستم هم جای یک مودم همراه به اندازه xxunk cm در xxunk cm به ( عمق یا ارتفاع 1.5 cm ) و هم جای یک هارد وسترن به ( عمق 1.9 cm ) باشه اما متاسفانه جواب نداد ! اشکال کار هم در اندازه مشخص شده برای عمق کیف در عکس بود … که زده شده 4.4 cm اما گفته نشده که اندازه بیرونی کیف محاسبه شده است ! ! و من هم به خاطر همین اندازه به اشتباه افتادم و خریدم انجام دادم ، حالا فقط میتونم یا هارد با عمق نهایتا 2.5 cm بزارم یا مودم تا این اندازه عمق + اشیای کوچک مثل شارژر + کابل + فلش + رم ریدر و … \\r\\n اندازه های واقعی داخل کیف : ( نه از جداره ایی که در عکس مشخص</td>\n",
              "      <td>recommended</td>\n",
              "      <td>recommended</td>\n",
              "    </tr>\n",
              "    <tr>\n",
              "      <th>4</th>\n",
              "      <td>xxbos قابل قبول \\r\\n با سلام . ابتدا باید از شرکت xxunk سرویس بابت پیگیری جدی و مستمر در مورد نصب دستگاه تشکر کنم متاسفانه مسئول نصب با اینکه از تلویزیون وستل تعریف می کرد اما اطلاعات چندانی در مورد نصب این تلویزیون چه بخش سخت افزار و چه بخش نرم افزار نداشت به محض راه اندازی شاهد تصویر بسیار ضعیف و ناامید کننده و استفاده از اندرویدی کاملا محدود بودم . دو کنترل در کارتن بود که یکی از اونها کار نمی کرد . بعد از رفتن نصاب دفترچه رو خوندم و چند ساعتی درگیر تنظیمات شدم که نتیجه اون رو خدمت خریداران احتمالی عرض می کنم : \\r\\n 1- گیرندگی تلویزیون دیجیتال قوی نیست و حتما از یک آنتن خوب استفاده کنید در این صورت بر خلاف توضیحات دیجی کالا که کیفیت تصویر رو معمولی ذکر کرده شاهد تصویری نزدیک به عالی و فراتر از حد انتظار خواهید</td>\n",
              "      <td>recommended</td>\n",
              "      <td>recommended</td>\n",
              "    </tr>\n",
              "    <tr>\n",
              "      <th>5</th>\n",
              "      <td>xxbos کیفیت ساخت عالی \\r\\n من این محصول را یک سال پیش خریده بودم و هنوز هم کار میکند و واقعا از همه نظر عالی است بجز اینکه دکمه های back / forward کمی کوچک طراحی شده اند . \\r\\n موسی که من تجربه ی خوبی با آن داشتم دقیقا همین مدل بود فقط گیرنده اش 5 g بود ولی این دومی که امروز خریده ام گیرنده اش 2.4 g است . دقیقا مطمین نیستم افت کیفیت داشته باشد ( امیدوارم مثل سری اول خوش ساخت و با کیفیت و دقیق باشه ) ولی کلا جهت اطلاع مصرف کننده ها میگم که 5 g قدرت سیگنالی قوی تری دارد و همچنین تداخل کمتری دارد چون بیشتر دستگاه های وایرلس روی 2.4 g کار می کنند ولی عیبش این است که 5 g نسبت به 2.4 g برد کمتری دارد چون قدرت نفوذ از موانع اش کمتر از 2.4 g است</td>\n",
              "      <td>recommended</td>\n",
              "      <td>recommended</td>\n",
              "    </tr>\n",
              "    <tr>\n",
              "      <th>6</th>\n",
              "      <td>xxbos یک دوربین امنیتی خوب ! \\r\\n بعد از شش ماه استفاده دائمی برای کنترل داخل منزل هیچ مشکلی از قبیل هنگ کردن و وصل نشدن به وای فای و … نداشته . \\r\\n کیفیت تصویر خیلی خوب هست . \\r\\n▁ با توجه به این که از راه دور و توسط اپلیکیشن مربوطه میتونید رزولوشن دوربین رو تغییر بدید هیچ وقت کمبود پهنای باند اینترنت مانع از دست دادن ارتباط نمیشه . \\r\\n هم از داخل کشور و هم از خارج از کشور با هر نوع اینترنتی با سرعت بسیار بالا و یا بسیار پایین کاملا درست جواب داده . \\r\\n البته مدتی با کابل و بعد از آن با وایرلس به وای فای وصل کردم که در هر دو مورد بسیار عالی xxunk . \\r\\n کیفیت ساخت محصول بسیار خوب هست . \\r\\n xxunk محصول بسیار با کیفیت و همه چیز سر جای خودش هست . \\r\\n طراحی محصول</td>\n",
              "      <td>recommended</td>\n",
              "      <td>recommended</td>\n",
              "    </tr>\n",
              "    <tr>\n",
              "      <th>7</th>\n",
              "      <td>xxbos xxunk xxunk \\r\\n نقاط قوت : حافظه داخلی علاوه بر یو اس بی با وای فای هم قابل دسترسی است و میتوان فایل اضافه کرد.در صورت قطع شدم ارتباط خیلی سریع با قرار گرفتن در محدوده xxunk xxunk های متنوع xxunk شنا وجود ندارد بدلیل اینکه برای شنا مناسب نیست برای شنا از مدل بالاتر استفاده کنید با قابلیت دوام در 50 متر زیر xxunk کسانی که گوشی xxunk دارند میتوانند با نرم افزار xxunk به قابلیت های بیشتر ساعت دست پیدا xxunk برای محاسبه دقیق کالری مصرف شده تعریف برنامه های xxunk xxunk xxunk و هرکاری که در طول روز انجام xxunk توضیحات گفته شده بود حدودا 5 روز شارژ دهی دارد اما برای من حدودا دو روز و نیم از 100 به 0 رسید بدون پخش موسیقی و جی پی اس و ورزش فقط استفاده xxunk شارژ شدن هم حدودا یک ساعت گفته شده بود که حدود</td>\n",
              "      <td>recommended</td>\n",
              "      <td>recommended</td>\n",
              "    </tr>\n",
              "    <tr>\n",
              "      <th>8</th>\n",
              "      <td>xxbos ضبط xxunk xxunk \\r\\n قبلا اینجا نظر کاربر عزیزی رو خوندم که گفته بود ضبط خوبی نیست ولی این ریسک رو کردم xxunk رو توی تخفیف دیجی کالا خریدم xxunk بابت نصب نداشتم و مراحل نصب به این صورته : سیم کشی کاملی داره که فابریک خودرو هست تنها مشکل توی سیم کشی اینه که با usb وسط کنسول ست نمیشه که سیم اونو جدا بردم توی xxunk رو به راحتی وسط چراغ بالای پلاک نصب کردم وسیم مثبت رو از دسته سیم پشت چراغ عقب سمت راننده اون دسته سیمی که به طرف بالای ستون رفته سیم سبز با خط صورتی وسیم منفی هم همونجا از اتصال بدنه xxunk سوکت تصویری که از پشت ضبط به دوربین عقب میبرید یه سیم قرمز رنگ هست که از پشت ضبط به سیم xxmaj xxunk که صورتی رنگ هست واز عقب به سیم مثبت دوربین نصب میشه ) سیم xxup xxunk</td>\n",
              "      <td>recommended</td>\n",
              "      <td>recommended</td>\n",
              "    </tr>\n",
              "  </tbody>\n",
              "</table>"
            ],
            "text/plain": [
              "<IPython.core.display.HTML object>"
            ]
          },
          "metadata": {
            "tags": []
          }
        }
      ]
    },
    {
      "cell_type": "code",
      "metadata": {
        "colab": {
          "base_uri": "https://localhost:8080/",
          "height": 34
        },
        "id": "sUBIJ1QU_MNQ",
        "outputId": "aa91111d-709e-4193-c7cb-081811be16a7"
      },
      "source": [
        "learn.predict(\"خیلی عالی بود\")"
      ],
      "execution_count": null,
      "outputs": [
        {
          "output_type": "display_data",
          "data": {
            "text/html": [
              ""
            ],
            "text/plain": [
              "<IPython.core.display.HTML object>"
            ]
          },
          "metadata": {
            "tags": []
          }
        },
        {
          "output_type": "execute_result",
          "data": {
            "text/plain": [
              "('recommended', tensor(1), tensor([0.2596, 0.7404]))"
            ]
          },
          "metadata": {
            "tags": []
          },
          "execution_count": 23
        }
      ]
    },
    {
      "cell_type": "markdown",
      "metadata": {
        "id": "rPvy2Iu6Eht8"
      },
      "source": [
        "### Fine-Tune pretrained Language Model on our data"
      ]
    },
    {
      "cell_type": "code",
      "metadata": {
        "colab": {
          "base_uri": "https://localhost:8080/",
          "height": 530
        },
        "id": "8J4U6CfBCYPw",
        "outputId": "6ce7c712-ac75-4245-e807-cdbfd220b3b4"
      },
      "source": [
        "dls_lm = TextDataLoaders.from_df(df, text_col=\"text\", label_col=\"recommend\", is_lm=True, valid_pct=0.1)\n",
        "dls_lm.show_batch(max_n=5)"
      ],
      "execution_count": null,
      "outputs": [
        {
          "output_type": "display_data",
          "data": {
            "text/html": [
              ""
            ],
            "text/plain": [
              "<IPython.core.display.HTML object>"
            ]
          },
          "metadata": {
            "tags": []
          }
        },
        {
          "output_type": "stream",
          "text": [
            "/usr/local/lib/python3.7/dist-packages/numpy/core/_asarray.py:83: VisibleDeprecationWarning: Creating an ndarray from ragged nested sequences (which is a list-or-tuple of lists-or-tuples-or ndarrays with different lengths or shapes) is deprecated. If you meant to do this, you must specify 'dtype=object' when creating the ndarray\n",
            "  return array(a, dtype, copy=False, order=order)\n"
          ],
          "name": "stderr"
        },
        {
          "output_type": "display_data",
          "data": {
            "text/html": [
              "<table border=\"1\" class=\"dataframe\">\n",
              "  <thead>\n",
              "    <tr style=\"text-align: right;\">\n",
              "      <th></th>\n",
              "      <th>text</th>\n",
              "      <th>text_</th>\n",
              "    </tr>\n",
              "  </thead>\n",
              "  <tbody>\n",
              "    <tr>\n",
              "      <th>0</th>\n",
              "      <td>xxbos کارایی بسیار کم \\r\\n برخلاف توضیحات دوربین نداره و انتن دهی بسیار ضعیفی xxunk با مدلهای ارزونتر نداره xxbos xxunk \\r\\n افتضاح بود واقعا توصیه نمیکنم xxbos فوق العاده \\r\\n کیفیت درجه یک وعالی xxbos xxunk \\r\\n من این گوشی رو برای پسرم خریدم ازش راضی ام xxbos چرخ موزیکال \\r\\n کیفیت چندان نداره با توجه به xxunk سایزش از چیزی که در مشخصات نوشته شده کوچکتره . xxbos قابی بی</td>\n",
              "      <td>کارایی بسیار کم \\r\\n برخلاف توضیحات دوربین نداره و انتن دهی بسیار ضعیفی xxunk با مدلهای ارزونتر نداره xxbos xxunk \\r\\n افتضاح بود واقعا توصیه نمیکنم xxbos فوق العاده \\r\\n کیفیت درجه یک وعالی xxbos xxunk \\r\\n من این گوشی رو برای پسرم خریدم ازش راضی ام xxbos چرخ موزیکال \\r\\n کیفیت چندان نداره با توجه به xxunk سایزش از چیزی که در مشخصات نوشته شده کوچکتره . xxbos قابی بی کیفیت</td>\n",
              "    </tr>\n",
              "    <tr>\n",
              "      <th>1</th>\n",
              "      <td>بعضی اوقات اگه جسمی بین گوشی و اسپیکر قرار بگیره قطع و وصل میشه . \\r\\n صدای اسپیکر واقعا خوب و با کیفیته حتی صدای اون خانم که آزار دهنده نیست ( در حد xxunk و میوزیک ) \\r\\n▁ تولید xxup bass مناسبی داره و برای همه جور آهنگی بدون مشکله . \\r\\n توی بعضی آهنگها صدای خفگی ازش میاد ولی بازهم با کیفیته و من راضیم ازش . \\r\\n توی صدای</td>\n",
              "      <td>اوقات اگه جسمی بین گوشی و اسپیکر قرار بگیره قطع و وصل میشه . \\r\\n صدای اسپیکر واقعا خوب و با کیفیته حتی صدای اون خانم که آزار دهنده نیست ( در حد xxunk و میوزیک ) \\r\\n▁ تولید xxup bass مناسبی داره و برای همه جور آهنگی بدون مشکله . \\r\\n توی بعضی آهنگها صدای خفگی ازش میاد ولی بازهم با کیفیته و من راضیم ازش . \\r\\n توی صدای بلند</td>\n",
              "    </tr>\n",
              "    <tr>\n",
              "      <th>2</th>\n",
              "      <td>.. xxunk کشور چین xxunk بده که حداقل وسیله ای xxunk قابل استفاده است .. xxbos تو پیشنهاد ویژه خریدم وعالی بود \\r\\n کیف خوبی هست و تو پیشنهاد ویژه ارزش خرید دارد xxbos لباس کودک \\r\\n خوبه،فقط شلوار انگار ی سایز کوچکتره نسبت به بلوز xxbos ساعت صفحه آبی عالیه \\r\\n ساعت فقط در چین مونتاژ شده و موتور ژاپنیه . کیفیت هم برخلاف نظر برخی دوستان بالاست و زیبایی خاصی</td>\n",
              "      <td>xxunk کشور چین xxunk بده که حداقل وسیله ای xxunk قابل استفاده است .. xxbos تو پیشنهاد ویژه خریدم وعالی بود \\r\\n کیف خوبی هست و تو پیشنهاد ویژه ارزش خرید دارد xxbos لباس کودک \\r\\n خوبه،فقط شلوار انگار ی سایز کوچکتره نسبت به بلوز xxbos ساعت صفحه آبی عالیه \\r\\n ساعت فقط در چین مونتاژ شده و موتور ژاپنیه . کیفیت هم برخلاف نظر برخی دوستان بالاست و زیبایی خاصی هم</td>\n",
              "    </tr>\n",
              "    <tr>\n",
              "      <th>3</th>\n",
              "      <td>و مرجوع کردم که دیگر موجود نبود بار دوم برند xxup xxunk که متاسفانه این یکی هم که امروز بدستم رسید قطعات فلزی و بست شیشه چراغ ندارد xxunk است که باید آنها را از چراغ قدیمی باز کنم و روی چراغ جدید ببندم . xxbos از همه لحاظ عالی هستش \\r\\n اولش که خریدم ترسیدم چون خیلی از دوستان نوشته بودن که پاک نمیشه و بی کیفیت هست ولی اصلا اینطور</td>\n",
              "      <td>مرجوع کردم که دیگر موجود نبود بار دوم برند xxup xxunk که متاسفانه این یکی هم که امروز بدستم رسید قطعات فلزی و بست شیشه چراغ ندارد xxunk است که باید آنها را از چراغ قدیمی باز کنم و روی چراغ جدید ببندم . xxbos از همه لحاظ عالی هستش \\r\\n اولش که خریدم ترسیدم چون خیلی از دوستان نوشته بودن که پاک نمیشه و بی کیفیت هست ولی اصلا اینطور نیست</td>\n",
              "    </tr>\n",
              "    <tr>\n",
              "      <th>4</th>\n",
              "      <td>… \\r\\n البته کسایی که میگن با در اوردن نادرست خراب میشه .. یه بار برق ما رفت و هیچ اتفاقی نیافتاد .. xxunk خود کنسول گفت که احتمال داره آسیب دیده باشه ) ولی من هیچ مشکلی ندیدم . xxbos گرونه \\r\\n با این قیمت واقعاً نمیارزه ! xxbos نوری \\r\\n خیلی نازک و شله و فیت گوشی هم نیست . من یه کاور با نصف قیمت این خریدم خیلی از</td>\n",
              "      <td>\\r\\n البته کسایی که میگن با در اوردن نادرست خراب میشه .. یه بار برق ما رفت و هیچ اتفاقی نیافتاد .. xxunk خود کنسول گفت که احتمال داره آسیب دیده باشه ) ولی من هیچ مشکلی ندیدم . xxbos گرونه \\r\\n با این قیمت واقعاً نمیارزه ! xxbos نوری \\r\\n خیلی نازک و شله و فیت گوشی هم نیست . من یه کاور با نصف قیمت این خریدم خیلی از این</td>\n",
              "    </tr>\n",
              "  </tbody>\n",
              "</table>"
            ],
            "text/plain": [
              "<IPython.core.display.HTML object>"
            ]
          },
          "metadata": {
            "tags": []
          }
        }
      ]
    },
    {
      "cell_type": "code",
      "metadata": {
        "id": "GnuwFck-C2SF"
      },
      "source": [
        "learn = language_model_learner(dls_lm, AWD_LSTM, metrics=[accuracy, Perplexity()], wd=0.1).to_fp16()"
      ],
      "execution_count": null,
      "outputs": []
    },
    {
      "cell_type": "code",
      "metadata": {
        "colab": {
          "base_uri": "https://localhost:8080/",
          "height": 111
        },
        "id": "b1QMSIhDE5d0",
        "outputId": "a6e999ad-c9cc-4c1d-87ea-40d01dc7b705"
      },
      "source": [
        "# fit last layer\n",
        "learn.fit_one_cycle(2, 1e-2)"
      ],
      "execution_count": null,
      "outputs": [
        {
          "output_type": "display_data",
          "data": {
            "text/html": [
              "<table border=\"1\" class=\"dataframe\">\n",
              "  <thead>\n",
              "    <tr style=\"text-align: left;\">\n",
              "      <th>epoch</th>\n",
              "      <th>train_loss</th>\n",
              "      <th>valid_loss</th>\n",
              "      <th>accuracy</th>\n",
              "      <th>perplexity</th>\n",
              "      <th>time</th>\n",
              "    </tr>\n",
              "  </thead>\n",
              "  <tbody>\n",
              "    <tr>\n",
              "      <td>0</td>\n",
              "      <td>5.859764</td>\n",
              "      <td>5.564551</td>\n",
              "      <td>0.150809</td>\n",
              "      <td>261.008087</td>\n",
              "      <td>01:33</td>\n",
              "    </tr>\n",
              "    <tr>\n",
              "      <td>1</td>\n",
              "      <td>5.411556</td>\n",
              "      <td>5.245706</td>\n",
              "      <td>0.175284</td>\n",
              "      <td>189.749741</td>\n",
              "      <td>01:32</td>\n",
              "    </tr>\n",
              "  </tbody>\n",
              "</table>"
            ],
            "text/plain": [
              "<IPython.core.display.HTML object>"
            ]
          },
          "metadata": {
            "tags": []
          }
        }
      ]
    },
    {
      "cell_type": "code",
      "metadata": {
        "colab": {
          "base_uri": "https://localhost:8080/",
          "height": 111
        },
        "id": "LZ9PI-YWDWDp",
        "outputId": "d00c31b8-44c1-4d1f-ee70-0dbea3fe55da"
      },
      "source": [
        "# fit hidden layers\n",
        "learn.unfreeze()\n",
        "learn.fit_one_cycle(2, 1e-3)"
      ],
      "execution_count": null,
      "outputs": [
        {
          "output_type": "display_data",
          "data": {
            "text/html": [
              "<table border=\"1\" class=\"dataframe\">\n",
              "  <thead>\n",
              "    <tr style=\"text-align: left;\">\n",
              "      <th>epoch</th>\n",
              "      <th>train_loss</th>\n",
              "      <th>valid_loss</th>\n",
              "      <th>accuracy</th>\n",
              "      <th>perplexity</th>\n",
              "      <th>time</th>\n",
              "    </tr>\n",
              "  </thead>\n",
              "  <tbody>\n",
              "    <tr>\n",
              "      <td>0</td>\n",
              "      <td>4.986550</td>\n",
              "      <td>4.879456</td>\n",
              "      <td>0.208773</td>\n",
              "      <td>131.559021</td>\n",
              "      <td>01:34</td>\n",
              "    </tr>\n",
              "    <tr>\n",
              "      <td>1</td>\n",
              "      <td>4.803213</td>\n",
              "      <td>4.777107</td>\n",
              "      <td>0.217326</td>\n",
              "      <td>118.760307</td>\n",
              "      <td>01:35</td>\n",
              "    </tr>\n",
              "  </tbody>\n",
              "</table>"
            ],
            "text/plain": [
              "<IPython.core.display.HTML object>"
            ]
          },
          "metadata": {
            "tags": []
          }
        }
      ]
    },
    {
      "cell_type": "code",
      "metadata": {
        "colab": {
          "base_uri": "https://localhost:8080/",
          "height": 136
        },
        "id": "AuZUzuoiDL8l",
        "outputId": "017b2e85-81e0-4b0c-8377-44daa2e2da70"
      },
      "source": [
        "TEXT = \"گوشی خوبی هست ولی\"\n",
        "N_WORDS = 40\n",
        "N_SENTENCES = 2\n",
        "preds = [learn.predict(TEXT, N_WORDS, temperature=0.75) for _ in range(N_SENTENCES)]\n",
        "print(\"\\n\".join(preds))"
      ],
      "execution_count": null,
      "outputs": [
        {
          "output_type": "display_data",
          "data": {
            "text/html": [
              ""
            ],
            "text/plain": [
              "<IPython.core.display.HTML object>"
            ]
          },
          "metadata": {
            "tags": []
          }
        },
        {
          "output_type": "display_data",
          "data": {
            "text/html": [
              ""
            ],
            "text/plain": [
              "<IPython.core.display.HTML object>"
            ]
          },
          "metadata": {
            "tags": []
          }
        },
        {
          "output_type": "stream",
          "text": [
            "گوشی خوبی هست ولی خیلی خوبه ، کیفیت این مدل فوق العاده هست \r\n",
            " واسه شارژ کردن گوشی عالیه به راحتی شارژ نمیشه و کثیف میشه از خریدش پشیمون نمیشید \r\n",
            " من این محصول رو از دیجی کالا خریدم و خیلی راضیم و\n",
            "گوشی خوبی هست ولی من با توجه به قیمت ی ویژه خریدم و راضیم \r\n",
            " من که باهاش ازش استفاده میکنم و کاملا راضی هستم . حامدزاده \r\n",
            " بسیار عالی و خوب و زیبا بهترین برند \r\n",
            " هندزفری خوبیه بهترین گزینه برای\n"
          ],
          "name": "stdout"
        }
      ]
    },
    {
      "cell_type": "code",
      "metadata": {
        "id": "DeF5JcKrE0_4"
      },
      "source": [
        "learn.save_encoder('fine_tuned')"
      ],
      "execution_count": null,
      "outputs": []
    },
    {
      "cell_type": "markdown",
      "metadata": {
        "id": "esSGoX8gFZBB"
      },
      "source": [
        "### Use new language model for text classification task"
      ]
    },
    {
      "cell_type": "code",
      "metadata": {
        "colab": {
          "base_uri": "https://localhost:8080/",
          "height": 71
        },
        "id": "WRD5Qgw3FT58",
        "outputId": "e2bd2d71-6b29-442c-d52a-63d317e7171d"
      },
      "source": [
        "dls_clas = TextDataLoaders.from_df(df, text_col=\"text\", \n",
        "                                   label_col=\"recommend\", \n",
        "                                   valid_pct=0.1, \n",
        "                                   text_vocab=dls_lm.vocab)"
      ],
      "execution_count": null,
      "outputs": [
        {
          "output_type": "display_data",
          "data": {
            "text/html": [
              ""
            ],
            "text/plain": [
              "<IPython.core.display.HTML object>"
            ]
          },
          "metadata": {
            "tags": []
          }
        },
        {
          "output_type": "stream",
          "text": [
            "/usr/local/lib/python3.7/dist-packages/numpy/core/_asarray.py:83: VisibleDeprecationWarning: Creating an ndarray from ragged nested sequences (which is a list-or-tuple of lists-or-tuples-or ndarrays with different lengths or shapes) is deprecated. If you meant to do this, you must specify 'dtype=object' when creating the ndarray\n",
            "  return array(a, dtype, copy=False, order=order)\n"
          ],
          "name": "stderr"
        }
      ]
    },
    {
      "cell_type": "code",
      "metadata": {
        "id": "pQuf-XinFfec"
      },
      "source": [
        "learn = text_classifier_learner(dls_clas, AWD_LSTM, drop_mult=0.5, metrics=accuracy)"
      ],
      "execution_count": null,
      "outputs": []
    },
    {
      "cell_type": "code",
      "metadata": {
        "id": "aBqhBKH9F7fj"
      },
      "source": [
        "learn = learn.load_encoder('fine_tuned')"
      ],
      "execution_count": null,
      "outputs": []
    },
    {
      "cell_type": "code",
      "metadata": {
        "colab": {
          "base_uri": "https://localhost:8080/",
          "height": 80
        },
        "id": "rdar65-NF9fv",
        "outputId": "e7bacdc8-34e7-4c6d-ff6c-707ee001849f"
      },
      "source": [
        "learn.fit_one_cycle(1, 2e-2)"
      ],
      "execution_count": null,
      "outputs": [
        {
          "output_type": "display_data",
          "data": {
            "text/html": [
              "<table border=\"1\" class=\"dataframe\">\n",
              "  <thead>\n",
              "    <tr style=\"text-align: left;\">\n",
              "      <th>epoch</th>\n",
              "      <th>train_loss</th>\n",
              "      <th>valid_loss</th>\n",
              "      <th>accuracy</th>\n",
              "      <th>time</th>\n",
              "    </tr>\n",
              "  </thead>\n",
              "  <tbody>\n",
              "    <tr>\n",
              "      <td>0</td>\n",
              "      <td>0.254043</td>\n",
              "      <td>0.189401</td>\n",
              "      <td>0.926149</td>\n",
              "      <td>01:09</td>\n",
              "    </tr>\n",
              "  </tbody>\n",
              "</table>"
            ],
            "text/plain": [
              "<IPython.core.display.HTML object>"
            ]
          },
          "metadata": {
            "tags": []
          }
        }
      ]
    },
    {
      "cell_type": "code",
      "metadata": {
        "colab": {
          "base_uri": "https://localhost:8080/",
          "height": 34
        },
        "id": "Ek39pXpbGEcF",
        "outputId": "e9174424-8dfa-47fb-9f1b-5aeb86800623"
      },
      "source": [
        "learn.predict(\"خیلی بد بود\")"
      ],
      "execution_count": null,
      "outputs": [
        {
          "output_type": "display_data",
          "data": {
            "text/html": [
              ""
            ],
            "text/plain": [
              "<IPython.core.display.HTML object>"
            ]
          },
          "metadata": {
            "tags": []
          }
        },
        {
          "output_type": "execute_result",
          "data": {
            "text/plain": [
              "('not_recommended', tensor(0), tensor([0.9073, 0.0927]))"
            ]
          },
          "metadata": {
            "tags": []
          },
          "execution_count": 34
        }
      ]
    },
    {
      "cell_type": "code",
      "metadata": {
        "colab": {
          "base_uri": "https://localhost:8080/",
          "height": 34
        },
        "id": "17nrqrq5H8SG",
        "outputId": "d9bb2407-4c43-426c-cd79-6ea3270c770d"
      },
      "source": [
        "learn.predict(\"افتضاح بود\")"
      ],
      "execution_count": null,
      "outputs": [
        {
          "output_type": "display_data",
          "data": {
            "text/html": [
              ""
            ],
            "text/plain": [
              "<IPython.core.display.HTML object>"
            ]
          },
          "metadata": {
            "tags": []
          }
        },
        {
          "output_type": "execute_result",
          "data": {
            "text/plain": [
              "('not_recommended', tensor(0), tensor([0.9504, 0.0496]))"
            ]
          },
          "metadata": {
            "tags": []
          },
          "execution_count": 35
        }
      ]
    },
    {
      "cell_type": "code",
      "metadata": {
        "colab": {
          "base_uri": "https://localhost:8080/",
          "height": 34
        },
        "id": "FetsP7p6H-j3",
        "outputId": "cb4bea14-da3c-4b64-ac4b-b062bad8c40e"
      },
      "source": [
        "learn.predict(\"عالی بود\")"
      ],
      "execution_count": null,
      "outputs": [
        {
          "output_type": "display_data",
          "data": {
            "text/html": [
              ""
            ],
            "text/plain": [
              "<IPython.core.display.HTML object>"
            ]
          },
          "metadata": {
            "tags": []
          }
        },
        {
          "output_type": "execute_result",
          "data": {
            "text/plain": [
              "('recommended', tensor(1), tensor([0.0309, 0.9691]))"
            ]
          },
          "metadata": {
            "tags": []
          },
          "execution_count": 36
        }
      ]
    },
    {
      "cell_type": "code",
      "metadata": {
        "colab": {
          "base_uri": "https://localhost:8080/",
          "height": 34
        },
        "id": "VPiz8qohpdCs",
        "outputId": "7f6b8e0c-edb0-47d8-9a5e-7978eade0787"
      },
      "source": [
        "learn.predict(\"استفاده از این محصول خیلی باعث رضایت من شد\")"
      ],
      "execution_count": null,
      "outputs": [
        {
          "output_type": "display_data",
          "data": {
            "text/html": [
              ""
            ],
            "text/plain": [
              "<IPython.core.display.HTML object>"
            ]
          },
          "metadata": {
            "tags": []
          }
        },
        {
          "output_type": "execute_result",
          "data": {
            "text/plain": [
              "('recommended', tensor(1), tensor([0.2770, 0.7230]))"
            ]
          },
          "metadata": {
            "tags": []
          },
          "execution_count": 40
        }
      ]
    }
  ]
}